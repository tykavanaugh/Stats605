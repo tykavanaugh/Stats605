{
 "cells": [
  {
   "cell_type": "code",
   "execution_count": 7,
   "metadata": {
    "collapsed": true
   },
   "outputs": [],
   "source": [
    "import numpy as np\n",
    "import pandas as pd\n",
    "import scipy.stats as stats\n",
    "import matplotlib.pyplot as plt\n",
    "import random\n",
    "from sklearn import datasets, linear_model\n",
    "import math\n",
    "\n",
    "%matplotlib inline"
   ]
  },
  {
   "cell_type": "code",
   "execution_count": 26,
   "metadata": {
    "collapsed": true
   },
   "outputs": [],
   "source": [
    "z_scores = 1.6184439634415166"
   ]
  },
  {
   "cell_type": "code",
   "execution_count": 27,
   "metadata": {},
   "outputs": [
    {
     "data": {
      "text/plain": [
       "0.052783476989387471"
      ]
     },
     "execution_count": 27,
     "metadata": {},
     "output_type": "execute_result"
    }
   ],
   "source": [
    "p_values = stats.norm.sf(abs(z_scores))\n",
    "p_values"
   ]
  },
  {
   "cell_type": "code",
   "execution_count": 65,
   "metadata": {},
   "outputs": [
    {
     "data": {
      "text/plain": [
       "-2.5758293035489008"
      ]
     },
     "execution_count": 65,
     "metadata": {},
     "output_type": "execute_result"
    }
   ],
   "source": [
    "stats.norm.ppf(.005)"
   ]
  },
  {
   "cell_type": "code",
   "execution_count": 61,
   "metadata": {
    "collapsed": true
   },
   "outputs": [],
   "source": [
    "x = 925\n",
    "u = 930\n",
    "stddev = 21\n",
    "n = 52"
   ]
  },
  {
   "cell_type": "code",
   "execution_count": 62,
   "metadata": {
    "collapsed": true
   },
   "outputs": [],
   "source": [
    "z = (x-u)/(stddev/(math.sqrt(n)))"
   ]
  },
  {
   "cell_type": "code",
   "execution_count": 63,
   "metadata": {},
   "outputs": [
    {
     "data": {
      "text/plain": [
       "-1.7169291787923757"
      ]
     },
     "execution_count": 63,
     "metadata": {},
     "output_type": "execute_result"
    }
   ],
   "source": [
    "z"
   ]
  },
  {
   "cell_type": "code",
   "execution_count": 60,
   "metadata": {},
   "outputs": [
    {
     "data": {
      "text/plain": [
       "0.019625165233846421"
      ]
     },
     "execution_count": 60,
     "metadata": {},
     "output_type": "execute_result"
    }
   ],
   "source": [
    "p_values = stats.norm.sf(abs(z))\n",
    "p_values"
   ]
  },
  {
   "cell_type": "code",
   "execution_count": 5,
   "metadata": {},
   "outputs": [
    {
     "data": {
      "text/plain": [
       "-2.0150483726691575"
      ]
     },
     "execution_count": 5,
     "metadata": {},
     "output_type": "execute_result"
    }
   ],
   "source": [
    "stats.t.ppf(.05,5)"
   ]
  },
  {
   "cell_type": "code",
   "execution_count": 3,
   "metadata": {},
   "outputs": [
    {
     "data": {
      "text/plain": [
       "-1.3450303744546486"
      ]
     },
     "execution_count": 3,
     "metadata": {},
     "output_type": "execute_result"
    }
   ],
   "source": [
    "stats.t.ppf(.1,14)"
   ]
  },
  {
   "cell_type": "code",
   "execution_count": 16,
   "metadata": {},
   "outputs": [
    {
     "data": {
      "text/plain": [
       "-2.0150483726691575"
      ]
     },
     "execution_count": 16,
     "metadata": {},
     "output_type": "execute_result"
    }
   ],
   "source": [
    "alpha = .05\n",
    "sample_mean = 19\n",
    "sample_std = 4\n",
    "n_samples = 6\n",
    "population_mean = 20\n",
    "stats.t.ppf(alpha,(n_samples-1))"
   ]
  },
  {
   "cell_type": "code",
   "execution_count": 17,
   "metadata": {},
   "outputs": [
    {
     "data": {
      "text/plain": [
       "Ttest_indResult(statistic=-0.61237243569579447, pvalue=0.56706715798488683)"
      ]
     },
     "execution_count": 17,
     "metadata": {},
     "output_type": "execute_result"
    }
   ],
   "source": [
    "t = stats.ttest_ind_from_stats(mean1=sample_mean, \n",
    "                              std1=sample_std, \n",
    "                              nobs1=n_samples, \n",
    "                              mean2=population_mean, \n",
    "                              std2=0, \n",
    "                              nobs2=2, \n",
    "                              equal_var=False)\n",
    "tstat = t[0]\n",
    "t"
   ]
  },
  {
   "cell_type": "code",
   "execution_count": 163,
   "metadata": {},
   "outputs": [
    {
     "name": "stdout",
     "output_type": "stream",
     "text": [
      "One tails P: 0.1362440373416633, Two Tailed P: 0.06812201867083165\n"
     ]
    }
   ],
   "source": [
    "one_tail = stats.t.sf(abs(tstat),(n_samples -1 )) * 2\n",
    "two_tail = stats.t.sf(abs(tstat),(n_samples -1 ))\n",
    "\n",
    "print('One tails P: {}, Two Tailed P: {}'.format(one_tail,two_tail))"
   ]
  },
  {
   "cell_type": "code",
   "execution_count": 164,
   "metadata": {},
   "outputs": [
    {
     "data": {
      "text/plain": [
       "1.5808095290642519"
      ]
     },
     "execution_count": 164,
     "metadata": {},
     "output_type": "execute_result"
    }
   ],
   "source": [
    "((sample_mean - population_mean)/(sample_std/(math.sqrt(n_samples))))"
   ]
  },
  {
   "cell_type": "code",
   "execution_count": 174,
   "metadata": {
    "collapsed": true
   },
   "outputs": [],
   "source": [
    "lists= [35,\n",
    "29,\n",
    "32,\n",
    "33,\n",
    "33,\n",
    "40,\n",
    "23,\n",
    "23,\n",
    "32,\n",
    "27,\n",
    "29,\n",
    "33,\n",
    "31,\n",
    "29,\n",
    "25,\n",
    "30,\n",
    "29,\n",
    "25]"
   ]
  },
  {
   "cell_type": "code",
   "execution_count": 175,
   "metadata": {},
   "outputs": [
    {
     "data": {
      "text/plain": [
       "-2.5669339837199101"
      ]
     },
     "execution_count": 175,
     "metadata": {},
     "output_type": "execute_result"
    }
   ],
   "source": [
    "alpha = .01\n",
    "sample_mean = np.mean(lists)\n",
    "sample_std = np.std(lists)\n",
    "n_samples = len(lists)\n",
    "population_mean = 31\n",
    "stats.t.ppf(alpha,(n_samples-1))"
   ]
  },
  {
   "cell_type": "code",
   "execution_count": 176,
   "metadata": {},
   "outputs": [
    {
     "data": {
      "text/plain": [
       "Ttest_indResult(statistic=-1.1149412193707491, pvalue=0.2803898564334133)"
      ]
     },
     "execution_count": 176,
     "metadata": {},
     "output_type": "execute_result"
    }
   ],
   "source": [
    "t = stats.ttest_ind_from_stats(mean1=sample_mean, \n",
    "                              std1=sample_std, \n",
    "                              nobs1=n_samples, \n",
    "                              mean2=population_mean, \n",
    "                              std2=0, \n",
    "                              nobs2=2, \n",
    "                              equal_var=False)\n",
    "tstat = t[0]\n",
    "t"
   ]
  },
  {
   "cell_type": "code",
   "execution_count": 171,
   "metadata": {},
   "outputs": [
    {
     "ename": "TypeError",
     "evalue": "'int' object is not callable",
     "output_type": "error",
     "traceback": [
      "\u001b[0;31m---------------------------------------------------------------------------\u001b[0m",
      "\u001b[0;31mTypeError\u001b[0m                                 Traceback (most recent call last)",
      "\u001b[0;32m<ipython-input-171-7f1c1df5f0df>\u001b[0m in \u001b[0;36m<module>\u001b[0;34m()\u001b[0m\n\u001b[1;32m      1\u001b[0m \u001b[0mstats\u001b[0m\u001b[0;34m.\u001b[0m\u001b[0mttest_1samp\u001b[0m\u001b[0;34m(\u001b[0m\u001b[0mlist\u001b[0m\u001b[0;34m,\u001b[0m\u001b[0;36m31\u001b[0m\u001b[0;34m)\u001b[0m\u001b[0;34m\u001b[0m\u001b[0m\n\u001b[0;32m----> 2\u001b[0;31m \u001b[0mmean\u001b[0m\u001b[0;34m(\u001b[0m\u001b[0mlist\u001b[0m\u001b[0;34m)\u001b[0m\u001b[0;34m\u001b[0m\u001b[0m\n\u001b[0m",
      "\u001b[0;31mTypeError\u001b[0m: 'int' object is not callable"
     ]
    }
   ],
   "source": [
    "stats.ttest_1samp(list,31)\n",
    "mean(list)"
   ]
  },
  {
   "cell_type": "code",
   "execution_count": 177,
   "metadata": {},
   "outputs": [
    {
     "data": {
      "text/plain": [
       "0.14019492821670665"
      ]
     },
     "execution_count": 177,
     "metadata": {},
     "output_type": "execute_result"
    }
   ],
   "source": [
    "0.2803898564334133/2"
   ]
  },
  {
   "cell_type": "code",
   "execution_count": 1,
   "metadata": {
    "collapsed": true
   },
   "outputs": [],
   "source": [
    "number = [38,\n",
    "54,\n",
    "35,\n",
    "48,\n",
    "38,\n",
    "40,\n",
    "36,\n",
    "50,\n",
    "47,\n",
    "55,\n",
    "42,\n",
    "56,\n",
    "26,\n",
    "23,\n",
    "62,\n",
    "39,\n",
    "62,\n",
    "41,\n",
    "31,\n",
    "37]"
   ]
  },
  {
   "cell_type": "code",
   "execution_count": 3,
   "metadata": {},
   "outputs": [
    {
     "data": {
      "text/plain": [
       "23"
      ]
     },
     "execution_count": 3,
     "metadata": {},
     "output_type": "execute_result"
    }
   ],
   "source": [
    "min(number)"
   ]
  },
  {
   "cell_type": "code",
   "execution_count": 4,
   "metadata": {},
   "outputs": [
    {
     "data": {
      "text/plain": [
       "62"
      ]
     },
     "execution_count": 4,
     "metadata": {},
     "output_type": "execute_result"
    }
   ],
   "source": [
    "max(number)"
   ]
  },
  {
   "cell_type": "code",
   "execution_count": 9,
   "metadata": {},
   "outputs": [
    {
     "data": {
      "text/plain": [
       "39"
      ]
     },
     "execution_count": 9,
     "metadata": {},
     "output_type": "execute_result"
    }
   ],
   "source": [
    "len(range(23,62))"
   ]
  },
  {
   "cell_type": "code",
   "execution_count": 10,
   "metadata": {},
   "outputs": [
    {
     "data": {
      "text/plain": [
       "7.8"
      ]
     },
     "execution_count": 10,
     "metadata": {},
     "output_type": "execute_result"
    }
   ],
   "source": [
    "39 / 5"
   ]
  },
  {
   "cell_type": "code",
   "execution_count": 15,
   "metadata": {
    "collapsed": true
   },
   "outputs": [],
   "source": [
    "number.sort()"
   ]
  },
  {
   "cell_type": "code",
   "execution_count": 17,
   "metadata": {
    "collapsed": true
   },
   "outputs": [],
   "source": [
    "numbers = [35,\n",
    "54,\n",
    "35,\n",
    "48,\n",
    "38,\n",
    "40,\n",
    "36,\n",
    "50,\n",
    "47,\n",
    "55,\n",
    "44,\n",
    "54,\n",
    "27,\n",
    "24,\n",
    "62,\n",
    "39,\n",
    "61,\n",
    "41,\n",
    "34,\n",
    "36]"
   ]
  },
  {
   "cell_type": "code",
   "execution_count": 18,
   "metadata": {
    "collapsed": true
   },
   "outputs": [],
   "source": [
    "numbers.sort()"
   ]
  },
  {
   "cell_type": "code",
   "execution_count": 19,
   "metadata": {},
   "outputs": [
    {
     "data": {
      "text/plain": [
       "[24,\n",
       " 27,\n",
       " 34,\n",
       " 35,\n",
       " 35,\n",
       " 36,\n",
       " 36,\n",
       " 38,\n",
       " 39,\n",
       " 40,\n",
       " 41,\n",
       " 44,\n",
       " 47,\n",
       " 48,\n",
       " 50,\n",
       " 54,\n",
       " 54,\n",
       " 55,\n",
       " 61,\n",
       " 62]"
      ]
     },
     "execution_count": 19,
     "metadata": {},
     "output_type": "execute_result"
    }
   ],
   "source": [
    "numbers"
   ]
  },
  {
   "cell_type": "code",
   "execution_count": 4,
   "metadata": {},
   "outputs": [
    {
     "name": "stdout",
     "output_type": "stream",
     "text": [
      "5.0\n",
      "5.0\n"
     ]
    },
    {
     "ename": "NameError",
     "evalue": "name 'statistics' is not defined",
     "output_type": "error",
     "traceback": [
      "\u001b[0;31m---------------------------------------------------------------------------\u001b[0m",
      "\u001b[0;31mNameError\u001b[0m                                 Traceback (most recent call last)",
      "\u001b[0;32m<ipython-input-4-187c434bd8a2>\u001b[0m in \u001b[0;36m<module>\u001b[0;34m()\u001b[0m\n\u001b[1;32m      2\u001b[0m \u001b[0mprint\u001b[0m\u001b[0;34m(\u001b[0m\u001b[0mnp\u001b[0m\u001b[0;34m.\u001b[0m\u001b[0maverage\u001b[0m\u001b[0;34m(\u001b[0m\u001b[0mnumbers\u001b[0m\u001b[0;34m)\u001b[0m\u001b[0;34m)\u001b[0m\u001b[0;34m\u001b[0m\u001b[0m\n\u001b[1;32m      3\u001b[0m \u001b[0mprint\u001b[0m\u001b[0;34m(\u001b[0m\u001b[0mnp\u001b[0m\u001b[0;34m.\u001b[0m\u001b[0mmedian\u001b[0m\u001b[0;34m(\u001b[0m\u001b[0mnumbers\u001b[0m\u001b[0;34m)\u001b[0m\u001b[0;34m)\u001b[0m\u001b[0;34m\u001b[0m\u001b[0m\n\u001b[0;32m----> 4\u001b[0;31m \u001b[0mprint\u001b[0m\u001b[0;34m(\u001b[0m\u001b[0mstatistics\u001b[0m\u001b[0;34m.\u001b[0m\u001b[0mmode\u001b[0m\u001b[0;34m(\u001b[0m\u001b[0mnumbers\u001b[0m\u001b[0;34m)\u001b[0m\u001b[0;34m)\u001b[0m\u001b[0;34m\u001b[0m\u001b[0m\n\u001b[0m",
      "\u001b[0;31mNameError\u001b[0m: name 'statistics' is not defined"
     ]
    }
   ],
   "source": [
    "numbers = [1,3,2,5,7,7,10,5]\n",
    "print(np.average(numbers))\n",
    "print(np.median(numbers))\n",
    "print(statistics.mode(numbers))"
   ]
  },
  {
   "cell_type": "code",
   "execution_count": 5,
   "metadata": {
    "collapsed": true
   },
   "outputs": [],
   "source": [
    "for x in range(0,10):\n",
    "    l = numbers.append(x)\n",
    "    try:\n",
    "        mode = statistics.mode(l)\n",
    "    except: TypeError\n",
    "    try: median = np.median(l)\n",
    "    except: TypeError\n",
    "    try: print('for {},mode = {}, median = {}'.format(x,mode,median))\n",
    "    except: NameError"
   ]
  },
  {
   "cell_type": "code",
   "execution_count": 54,
   "metadata": {},
   "outputs": [
    {
     "data": {
      "text/plain": [
       "9.0"
      ]
     },
     "execution_count": 54,
     "metadata": {},
     "output_type": "execute_result"
    }
   ],
   "source": [
    "(3 * 3 * 3)/3"
   ]
  },
  {
   "cell_type": "code",
   "execution_count": 50,
   "metadata": {},
   "outputs": [
    {
     "data": {
      "text/plain": [
       "12"
      ]
     },
     "execution_count": 50,
     "metadata": {},
     "output_type": "execute_result"
    }
   ],
   "source": [
    "(1 * 1 * 4)/4"
   ]
  },
  {
   "cell_type": "code",
   "execution_count": 55,
   "metadata": {},
   "outputs": [
    {
     "data": {
      "text/plain": [
       "4.0"
      ]
     },
     "execution_count": 55,
     "metadata": {},
     "output_type": "execute_result"
    }
   ],
   "source": [
    "(4 * 1 * 4)/4"
   ]
  },
  {
   "cell_type": "code",
   "execution_count": 57,
   "metadata": {},
   "outputs": [
    {
     "data": {
      "text/plain": [
       "2.0"
      ]
     },
     "execution_count": 57,
     "metadata": {},
     "output_type": "execute_result"
    }
   ],
   "source": [
    "(2 * 1 * 3)/3"
   ]
  },
  {
   "cell_type": "code",
   "execution_count": 58,
   "metadata": {},
   "outputs": [
    {
     "data": {
      "text/plain": [
       "27"
      ]
     },
     "execution_count": 58,
     "metadata": {},
     "output_type": "execute_result"
    }
   ],
   "source": [
    "9 + 12 + 4 + 2"
   ]
  },
  {
   "cell_type": "code",
   "execution_count": 59,
   "metadata": {},
   "outputs": [
    {
     "data": {
      "text/plain": [
       "23"
      ]
     },
     "execution_count": 59,
     "metadata": {},
     "output_type": "execute_result"
    }
   ],
   "source": [
    "4 * 3 + 4 * 1 + 4 * 1 + 3 * 1"
   ]
  },
  {
   "cell_type": "code",
   "execution_count": 60,
   "metadata": {},
   "outputs": [
    {
     "data": {
      "text/plain": [
       "0.8518518518518519"
      ]
     },
     "execution_count": 60,
     "metadata": {},
     "output_type": "execute_result"
    }
   ],
   "source": [
    "23/27"
   ]
  },
  {
   "cell_type": "code",
   "execution_count": 61,
   "metadata": {},
   "outputs": [
    {
     "data": {
      "text/plain": [
       "16"
      ]
     },
     "execution_count": 61,
     "metadata": {},
     "output_type": "execute_result"
    }
   ],
   "source": [
    "3 * 3 + 2 + 2 + 3"
   ]
  },
  {
   "cell_type": "code",
   "execution_count": 62,
   "metadata": {},
   "outputs": [
    {
     "data": {
      "text/plain": [
       "43"
      ]
     },
     "execution_count": 62,
     "metadata": {},
     "output_type": "execute_result"
    }
   ],
   "source": [
    "3 * (3 * 3) + 1 * 2 + 4 * 2 + 2 * 3"
   ]
  },
  {
   "cell_type": "code",
   "execution_count": 63,
   "metadata": {},
   "outputs": [
    {
     "data": {
      "text/plain": [
       "64"
      ]
     },
     "execution_count": 63,
     "metadata": {},
     "output_type": "execute_result"
    }
   ],
   "source": [
    "16 * 4"
   ]
  },
  {
   "cell_type": "code",
   "execution_count": 64,
   "metadata": {},
   "outputs": [
    {
     "data": {
      "text/plain": [
       "0.671875"
      ]
     },
     "execution_count": 64,
     "metadata": {},
     "output_type": "execute_result"
    }
   ],
   "source": [
    "43/64"
   ]
  },
  {
   "cell_type": "code",
   "execution_count": 65,
   "metadata": {},
   "outputs": [
    {
     "data": {
      "text/plain": [
       "2.6875"
      ]
     },
     "execution_count": 65,
     "metadata": {},
     "output_type": "execute_result"
    }
   ],
   "source": [
    ".671875 * 4"
   ]
  },
  {
   "cell_type": "code",
   "execution_count": 72,
   "metadata": {},
   "outputs": [
    {
     "data": {
      "text/plain": [
       "14290"
      ]
     },
     "execution_count": 72,
     "metadata": {},
     "output_type": "execute_result"
    }
   ],
   "source": [
    "5 * 50 + 15 * 69 + 25* 75 + 35* 45 + 45* 53 + 55 * 35 + 65* 40 + 75 * 16 + 85 * 17"
   ]
  },
  {
   "cell_type": "code",
   "execution_count": 66,
   "metadata": {
    "collapsed": true
   },
   "outputs": [],
   "source": [
    "ages = [50,69,75,45,53,35,40,16,17]"
   ]
  },
  {
   "cell_type": "code",
   "execution_count": 68,
   "metadata": {},
   "outputs": [
    {
     "data": {
      "text/plain": [
       "44.444444444444443"
      ]
     },
     "execution_count": 68,
     "metadata": {},
     "output_type": "execute_result"
    }
   ],
   "source": [
    "np.mean(ages)"
   ]
  },
  {
   "cell_type": "code",
   "execution_count": 71,
   "metadata": {},
   "outputs": [
    {
     "data": {
      "text/plain": [
       "400"
      ]
     },
     "execution_count": 71,
     "metadata": {},
     "output_type": "execute_result"
    }
   ],
   "source": [
    "50 + 69 + 75 +45 +53+35+40+16+17"
   ]
  },
  {
   "cell_type": "code",
   "execution_count": 73,
   "metadata": {},
   "outputs": [
    {
     "data": {
      "text/plain": [
       "35.725"
      ]
     },
     "execution_count": 73,
     "metadata": {},
     "output_type": "execute_result"
    }
   ],
   "source": [
    "14290 /400"
   ]
  },
  {
   "cell_type": "code",
   "execution_count": 79,
   "metadata": {},
   "outputs": [
    {
     "name": "stdout",
     "output_type": "stream",
     "text": [
      "0\n",
      "1\n",
      "2\n",
      "3\n",
      "4\n",
      "5\n",
      "6\n",
      "7\n",
      "8\n",
      "9\n"
     ]
    }
   ],
   "source": [
    "for x in range (0,10):\n",
    "    print (x)"
   ]
  },
  {
   "cell_type": "code",
   "execution_count": 81,
   "metadata": {
    "collapsed": true
   },
   "outputs": [],
   "source": [
    "num = [6,\n",
    "9,\n",
    "7,\n",
    "14,\n",
    "4,\n",
    "5,\n",
    "8,\n",
    "8,\n",
    "4,\n",
    "11,\n",
    "10,\n",
    "6,\n",
    "8,\n",
    "6,\n",
    "5,\n",
    "7,\n",
    "6,\n",
    "6,\n",
    "3,\n",
    "11]"
   ]
  },
  {
   "cell_type": "code",
   "execution_count": 82,
   "metadata": {},
   "outputs": [
    {
     "data": {
      "text/plain": [
       "(array([3, 7, 5, 2, 2, 1]),\n",
       " array([  3.        ,   4.83333333,   6.66666667,   8.5       ,\n",
       "         10.33333333,  12.16666667,  14.        ]))"
      ]
     },
     "execution_count": 82,
     "metadata": {},
     "output_type": "execute_result"
    }
   ],
   "source": [
    "np.histogram(num,bins=6)"
   ]
  },
  {
   "cell_type": "code",
   "execution_count": 84,
   "metadata": {},
   "outputs": [
    {
     "data": {
      "text/plain": [
       "(array([ 3.,  7.,  5.,  2.,  2.,  1.]),\n",
       " array([  3.        ,   4.83333333,   6.66666667,   8.5       ,\n",
       "         10.33333333,  12.16666667,  14.        ]),\n",
       " <a list of 6 Patch objects>)"
      ]
     },
     "execution_count": 84,
     "metadata": {},
     "output_type": "execute_result"
    },
    {
     "data": {
      "image/png": "[encoded data removed]",
      "text/plain": [
       "<matplotlib.figure.Figure at 0x1f1ecf5d30>"
      ]
     },
     "metadata": {},
     "output_type": "display_data"
    }
   ],
   "source": [
    "plt.hist(num,bins=6)"
   ]
  },
  {
   "cell_type": "code",
   "execution_count": 106,
   "metadata": {
    "collapsed": true
   },
   "outputs": [],
   "source": [
    "num = [6,\n",
    "9,\n",
    "7,\n",
    "14,\n",
    "4,\n",
    "5,\n",
    "6,\n",
    "8,\n",
    "4,\n",
    "11,\n",
    "10 ,\n",
    "6,\n",
    "8,\n",
    "6,\n",
    "5,\n",
    "7,\n",
    "6,\n",
    "6,\n",
    "3,\n",
    "11]"
   ]
  },
  {
   "cell_type": "code",
   "execution_count": 107,
   "metadata": {},
   "outputs": [
    {
     "data": {
      "text/plain": [
       "1.8333333333333333"
      ]
     },
     "metadata": {},
     "output_type": "display_data"
    },
    {
     "name": "stdout",
     "output_type": "stream",
     "text": [
      "14 3\n"
     ]
    }
   ],
   "source": [
    "bins = 6\n",
    "display((max(num) - min(num)) / bins)\n",
    "print(max(num),min(num))\n"
   ]
  },
  {
   "cell_type": "code",
   "execution_count": 108,
   "metadata": {},
   "outputs": [
    {
     "data": {
      "text/plain": [
       "1.8333333333333333"
      ]
     },
     "execution_count": 108,
     "metadata": {},
     "output_type": "execute_result"
    }
   ],
   "source": [
    "11/6"
   ]
  },
  {
   "cell_type": "code",
   "execution_count": 109,
   "metadata": {},
   "outputs": [
    {
     "data": {
      "text/plain": [
       "(array([ 3.,  8.,  4.,  2.,  2.,  1.]),\n",
       " array([ 3,  5,  7,  9, 11, 13, 15]),\n",
       " <a list of 6 Patch objects>)"
      ]
     },
     "execution_count": 109,
     "metadata": {},
     "output_type": "execute_result"
    },
    {
     "data": {
      "image/png": "[encoded data removed]",
      "text/plain": [
       "<matplotlib.figure.Figure at 0x1f220429b0>"
      ]
     },
     "metadata": {},
     "output_type": "display_data"
    }
   ],
   "source": [
    "plt.hist(num,bins=range(3,16,2))"
   ]
  },
  {
   "cell_type": "code",
   "execution_count": 110,
   "metadata": {
    "collapsed": true
   },
   "outputs": [],
   "source": [
    "num.sort()"
   ]
  },
  {
   "cell_type": "code",
   "execution_count": 111,
   "metadata": {},
   "outputs": [
    {
     "name": "stdout",
     "output_type": "stream",
     "text": [
      "[3, 4, 4, 5, 5, 6, 6, 6, 6, 6, 6, 7, 7, 8, 8, 9, 10, 11, 11, 14]\n"
     ]
    }
   ],
   "source": [
    "print(num)"
   ]
  },
  {
   "cell_type": "code",
   "execution_count": 122,
   "metadata": {
    "collapsed": true
   },
   "outputs": [],
   "source": [
    "num = [2,\n",
    "6,\n",
    "15,\n",
    "4,\n",
    "13,\n",
    "9,\n",
    "14,\n",
    "7,\n",
    "4,\n",
    "6,]"
   ]
  },
  {
   "cell_type": "code",
   "execution_count": 123,
   "metadata": {},
   "outputs": [
    {
     "data": {
      "text/plain": [
       "[2, 6, 15, 4, 13, 9, 14, 7, 4, 6]"
      ]
     },
     "execution_count": 123,
     "metadata": {},
     "output_type": "execute_result"
    }
   ],
   "source": [
    "num"
   ]
  },
  {
   "cell_type": "code",
   "execution_count": 124,
   "metadata": {},
   "outputs": [
    {
     "name": "stdout",
     "output_type": "stream",
     "text": [
      "2 15 8.0 4.33589667774\n"
     ]
    }
   ],
   "source": [
    "print(min(num), max(num),np.mean(num),np.std(num))"
   ]
  },
  {
   "cell_type": "code",
   "execution_count": 125,
   "metadata": {},
   "outputs": [
    {
     "data": {
      "text/plain": [
       "18.800000000000001"
      ]
     },
     "execution_count": 125,
     "metadata": {},
     "output_type": "execute_result"
    }
   ],
   "source": [
    "np.std(num) ** 2"
   ]
  },
  {
   "cell_type": "code",
   "execution_count": 127,
   "metadata": {},
   "outputs": [
    {
     "data": {
      "text/plain": [
       "array([ 4.89098361,  5.21567336,  7.27403728,  9.63081541,  4.29727807,\n",
       "        6.73014484])"
      ]
     },
     "execution_count": 127,
     "metadata": {},
     "output_type": "execute_result"
    }
   ],
   "source": [
    "np.random.normal(6,2,size=6)"
   ]
  },
  {
   "cell_type": "code",
   "execution_count": 136,
   "metadata": {
    "collapsed": true
   },
   "outputs": [],
   "source": [
    "K = 2\n",
    "n = 12"
   ]
  },
  {
   "cell_type": "code",
   "execution_count": 137,
   "metadata": {
    "collapsed": true
   },
   "outputs": [],
   "source": [
    "fract = 1 - (1/(K**2))"
   ]
  },
  {
   "cell_type": "code",
   "execution_count": 138,
   "metadata": {},
   "outputs": [
    {
     "data": {
      "text/plain": [
       "9.0"
      ]
     },
     "execution_count": 138,
     "metadata": {},
     "output_type": "execute_result"
    }
   ],
   "source": [
    "fract * n"
   ]
  },
  {
   "cell_type": "code",
   "execution_count": 139,
   "metadata": {},
   "outputs": [
    {
     "data": {
      "text/plain": [
       "43"
      ]
     },
     "execution_count": 139,
     "metadata": {},
     "output_type": "execute_result"
    }
   ],
   "source": [
    "5 + 12 + 11 + 4 + 11"
   ]
  },
  {
   "cell_type": "code",
   "execution_count": 140,
   "metadata": {},
   "outputs": [
    {
     "data": {
      "text/plain": [
       "90"
      ]
     },
     "execution_count": 140,
     "metadata": {},
     "output_type": "execute_result"
    }
   ],
   "source": [
    "5 * 0 + 1 * 12 + 2 * 11 + 4 * 3 + 11 *4"
   ]
  },
  {
   "cell_type": "code",
   "execution_count": 141,
   "metadata": {},
   "outputs": [
    {
     "data": {
      "text/plain": [
       "2.0930232558139537"
      ]
     },
     "execution_count": 141,
     "metadata": {},
     "output_type": "execute_result"
    }
   ],
   "source": [
    "90/43"
   ]
  },
  {
   "cell_type": "code",
   "execution_count": 163,
   "metadata": {
    "collapsed": true
   },
   "outputs": [],
   "source": [
    "hist = [5,12,11,4,11]\n",
    "l = []"
   ]
  },
  {
   "cell_type": "code",
   "execution_count": 165,
   "metadata": {
    "collapsed": true
   },
   "outputs": [],
   "source": [
    "for x in range(0,len(hist)):\n",
    "    for num in range(0,hist[x]):\n",
    "        l.append(x)"
   ]
  },
  {
   "cell_type": "code",
   "execution_count": 166,
   "metadata": {},
   "outputs": [
    {
     "data": {
      "text/plain": [
       "1.3608129151932833"
      ]
     },
     "execution_count": 166,
     "metadata": {},
     "output_type": "execute_result"
    }
   ],
   "source": [
    "np.std(l)"
   ]
  },
  {
   "cell_type": "code",
   "execution_count": 167,
   "metadata": {
    "collapsed": true
   },
   "outputs": [],
   "source": [
    "hist = [1,12,24,12,1]\n",
    "l = []\n",
    "for x in range(0,len(hist)):\n",
    "    for num in np.arange(70.5,hist[x],10):\n",
    "        l.append(x)"
   ]
  },
  {
   "cell_type": "code",
   "execution_count": 168,
   "metadata": {},
   "outputs": [
    {
     "data": {
      "text/plain": [
       "[]"
      ]
     },
     "execution_count": 168,
     "metadata": {},
     "output_type": "execute_result"
    }
   ],
   "source": [
    "l"
   ]
  },
  {
   "cell_type": "code",
   "execution_count": 169,
   "metadata": {
    "collapsed": true
   },
   "outputs": [],
   "source": [
    "l.append(70.5)"
   ]
  },
  {
   "cell_type": "code",
   "execution_count": 171,
   "metadata": {
    "collapsed": true
   },
   "outputs": [],
   "source": [
    "for x in range(0,12):\n",
    "    l.append(92.5)\n",
    "l.append(158.5)\n",
    "for x in range(0,12):\n",
    "    l.append(136.5)\n",
    "for x in range(0,24):\n",
    "    l.append(114.5)"
   ]
  },
  {
   "cell_type": "code",
   "execution_count": 172,
   "metadata": {},
   "outputs": [
    {
     "data": {
      "text/plain": [
       "[70.5,\n",
       " 92.5,\n",
       " 92.5,\n",
       " 92.5,\n",
       " 92.5,\n",
       " 92.5,\n",
       " 92.5,\n",
       " 92.5,\n",
       " 92.5,\n",
       " 92.5,\n",
       " 92.5,\n",
       " 92.5,\n",
       " 92.5,\n",
       " 158.5,\n",
       " 136.5,\n",
       " 136.5,\n",
       " 136.5,\n",
       " 136.5,\n",
       " 136.5,\n",
       " 136.5,\n",
       " 136.5,\n",
       " 136.5,\n",
       " 136.5,\n",
       " 136.5,\n",
       " 136.5,\n",
       " 136.5,\n",
       " 114.5,\n",
       " 114.5,\n",
       " 114.5,\n",
       " 114.5,\n",
       " 114.5,\n",
       " 114.5,\n",
       " 114.5,\n",
       " 114.5,\n",
       " 114.5,\n",
       " 114.5,\n",
       " 114.5,\n",
       " 114.5,\n",
       " 114.5,\n",
       " 114.5,\n",
       " 114.5,\n",
       " 114.5,\n",
       " 114.5,\n",
       " 114.5,\n",
       " 114.5,\n",
       " 114.5,\n",
       " 114.5,\n",
       " 114.5,\n",
       " 114.5,\n",
       " 114.5]"
      ]
     },
     "execution_count": 172,
     "metadata": {},
     "output_type": "execute_result"
    }
   ],
   "source": [
    "l"
   ]
  },
  {
   "cell_type": "code",
   "execution_count": 173,
   "metadata": {
    "collapsed": true
   },
   "outputs": [],
   "source": [
    "l.sort()"
   ]
  },
  {
   "cell_type": "code",
   "execution_count": 174,
   "metadata": {},
   "outputs": [
    {
     "data": {
      "text/plain": [
       "[70.5,\n",
       " 92.5,\n",
       " 92.5,\n",
       " 92.5,\n",
       " 92.5,\n",
       " 92.5,\n",
       " 92.5,\n",
       " 92.5,\n",
       " 92.5,\n",
       " 92.5,\n",
       " 92.5,\n",
       " 92.5,\n",
       " 92.5,\n",
       " 114.5,\n",
       " 114.5,\n",
       " 114.5,\n",
       " 114.5,\n",
       " 114.5,\n",
       " 114.5,\n",
       " 114.5,\n",
       " 114.5,\n",
       " 114.5,\n",
       " 114.5,\n",
       " 114.5,\n",
       " 114.5,\n",
       " 114.5,\n",
       " 114.5,\n",
       " 114.5,\n",
       " 114.5,\n",
       " 114.5,\n",
       " 114.5,\n",
       " 114.5,\n",
       " 114.5,\n",
       " 114.5,\n",
       " 114.5,\n",
       " 114.5,\n",
       " 114.5,\n",
       " 136.5,\n",
       " 136.5,\n",
       " 136.5,\n",
       " 136.5,\n",
       " 136.5,\n",
       " 136.5,\n",
       " 136.5,\n",
       " 136.5,\n",
       " 136.5,\n",
       " 136.5,\n",
       " 136.5,\n",
       " 136.5,\n",
       " 158.5]"
      ]
     },
     "execution_count": 174,
     "metadata": {},
     "output_type": "execute_result"
    }
   ],
   "source": [
    "l"
   ]
  },
  {
   "cell_type": "code",
   "execution_count": 175,
   "metadata": {},
   "outputs": [
    {
     "data": {
      "text/plain": [
       "17.600000000000001"
      ]
     },
     "execution_count": 175,
     "metadata": {},
     "output_type": "execute_result"
    }
   ],
   "source": [
    "np.std(l)"
   ]
  },
  {
   "cell_type": "code",
   "execution_count": 177,
   "metadata": {
    "collapsed": true
   },
   "outputs": [],
   "source": [
    "hist = [4,9,22,18,16,14,6]\n",
    "l = []"
   ]
  },
  {
   "cell_type": "code",
   "execution_count": 186,
   "metadata": {
    "collapsed": true
   },
   "outputs": [],
   "source": [
    "for x in range(0,len(hist)):\n",
    "    for num in range(0,hist[x]):\n",
    "        l.append((x+(x*5)))"
   ]
  },
  {
   "cell_type": "code",
   "execution_count": 187,
   "metadata": {},
   "outputs": [
    {
     "data": {
      "text/plain": [
       "[0,\n",
       " 0,\n",
       " 0,\n",
       " 0,\n",
       " 1,\n",
       " 1,\n",
       " 1,\n",
       " 1,\n",
       " 1,\n",
       " 1,\n",
       " 1,\n",
       " 1,\n",
       " 1,\n",
       " 2,\n",
       " 2,\n",
       " 2,\n",
       " 2,\n",
       " 2,\n",
       " 2,\n",
       " 2,\n",
       " 2,\n",
       " 2,\n",
       " 2,\n",
       " 2,\n",
       " 2,\n",
       " 2,\n",
       " 2,\n",
       " 2,\n",
       " 2,\n",
       " 2,\n",
       " 2,\n",
       " 2,\n",
       " 2,\n",
       " 2,\n",
       " 2,\n",
       " 3,\n",
       " 3,\n",
       " 3,\n",
       " 3,\n",
       " 3,\n",
       " 3,\n",
       " 3,\n",
       " 3,\n",
       " 3,\n",
       " 3,\n",
       " 3,\n",
       " 3,\n",
       " 3,\n",
       " 3,\n",
       " 3,\n",
       " 3,\n",
       " 3,\n",
       " 3,\n",
       " 4,\n",
       " 4,\n",
       " 4,\n",
       " 4,\n",
       " 4,\n",
       " 4,\n",
       " 4,\n",
       " 4,\n",
       " 4,\n",
       " 4,\n",
       " 4,\n",
       " 4,\n",
       " 4,\n",
       " 4,\n",
       " 4,\n",
       " 4,\n",
       " 5,\n",
       " 5,\n",
       " 5,\n",
       " 5,\n",
       " 5,\n",
       " 5,\n",
       " 5,\n",
       " 5,\n",
       " 5,\n",
       " 5,\n",
       " 5,\n",
       " 5,\n",
       " 5,\n",
       " 5,\n",
       " 6,\n",
       " 6,\n",
       " 6,\n",
       " 6,\n",
       " 6,\n",
       " 6,\n",
       " 0,\n",
       " 1,\n",
       " 1,\n",
       " 2,\n",
       " 2,\n",
       " 2,\n",
       " 2,\n",
       " 2,\n",
       " 3,\n",
       " 3,\n",
       " 3,\n",
       " 3,\n",
       " 4,\n",
       " 4,\n",
       " 4,\n",
       " 4,\n",
       " 5,\n",
       " 5,\n",
       " 5,\n",
       " 6,\n",
       " 6,\n",
       " 0,\n",
       " 0,\n",
       " 0,\n",
       " 0,\n",
       " 5,\n",
       " 5,\n",
       " 5,\n",
       " 5,\n",
       " 5,\n",
       " 5,\n",
       " 5,\n",
       " 5,\n",
       " 5,\n",
       " 10,\n",
       " 10,\n",
       " 10,\n",
       " 10,\n",
       " 10,\n",
       " 10,\n",
       " 10,\n",
       " 10,\n",
       " 10,\n",
       " 10,\n",
       " 10,\n",
       " 10,\n",
       " 10,\n",
       " 10,\n",
       " 10,\n",
       " 10,\n",
       " 10,\n",
       " 10,\n",
       " 10,\n",
       " 10,\n",
       " 10,\n",
       " 10,\n",
       " 15,\n",
       " 15,\n",
       " 15,\n",
       " 15,\n",
       " 15,\n",
       " 15,\n",
       " 15,\n",
       " 15,\n",
       " 15,\n",
       " 15,\n",
       " 15,\n",
       " 15,\n",
       " 15,\n",
       " 15,\n",
       " 15,\n",
       " 15,\n",
       " 15,\n",
       " 15,\n",
       " 20,\n",
       " 20,\n",
       " 20,\n",
       " 20,\n",
       " 20,\n",
       " 20,\n",
       " 20,\n",
       " 20,\n",
       " 20,\n",
       " 20,\n",
       " 20,\n",
       " 20,\n",
       " 20,\n",
       " 20,\n",
       " 20,\n",
       " 20,\n",
       " 25,\n",
       " 25,\n",
       " 25,\n",
       " 25,\n",
       " 25,\n",
       " 25,\n",
       " 25,\n",
       " 25,\n",
       " 25,\n",
       " 25,\n",
       " 25,\n",
       " 25,\n",
       " 25,\n",
       " 25,\n",
       " 30,\n",
       " 30,\n",
       " 30,\n",
       " 30,\n",
       " 30,\n",
       " 30,\n",
       " 0,\n",
       " 0,\n",
       " 0,\n",
       " 0,\n",
       " 6,\n",
       " 6,\n",
       " 6,\n",
       " 6,\n",
       " 6,\n",
       " 6,\n",
       " 6,\n",
       " 6,\n",
       " 6,\n",
       " 12,\n",
       " 12,\n",
       " 12,\n",
       " 12,\n",
       " 12,\n",
       " 12,\n",
       " 12,\n",
       " 12,\n",
       " 12,\n",
       " 12,\n",
       " 12,\n",
       " 12,\n",
       " 12,\n",
       " 12,\n",
       " 12,\n",
       " 12,\n",
       " 12,\n",
       " 12,\n",
       " 12,\n",
       " 12,\n",
       " 12,\n",
       " 12,\n",
       " 18,\n",
       " 18,\n",
       " 18,\n",
       " 18,\n",
       " 18,\n",
       " 18,\n",
       " 18,\n",
       " 18,\n",
       " 18,\n",
       " 18,\n",
       " 18,\n",
       " 18,\n",
       " 18,\n",
       " 18,\n",
       " 18,\n",
       " 18,\n",
       " 18,\n",
       " 18,\n",
       " 24,\n",
       " 24,\n",
       " 24,\n",
       " 24,\n",
       " 24,\n",
       " 24,\n",
       " 24,\n",
       " 24,\n",
       " 24,\n",
       " 24,\n",
       " 24,\n",
       " 24,\n",
       " 24,\n",
       " 24,\n",
       " 24,\n",
       " 24,\n",
       " 30,\n",
       " 30,\n",
       " 30,\n",
       " 30,\n",
       " 30,\n",
       " 30,\n",
       " 30,\n",
       " 30,\n",
       " 30,\n",
       " 30,\n",
       " 30,\n",
       " 30,\n",
       " 30,\n",
       " 30,\n",
       " 36,\n",
       " 36,\n",
       " 36,\n",
       " 36,\n",
       " 36,\n",
       " 36]"
      ]
     },
     "execution_count": 187,
     "metadata": {},
     "output_type": "execute_result"
    }
   ],
   "source": [
    "l"
   ]
  },
  {
   "cell_type": "code",
   "execution_count": 8,
   "metadata": {
    "collapsed": true
   },
   "outputs": [],
   "source": [
    "l = [980,\n",
    "2035,\n",
    "911,\n",
    "1899]"
   ]
  },
  {
   "cell_type": "code",
   "execution_count": 9,
   "metadata": {
    "collapsed": true
   },
   "outputs": [],
   "source": [
    "from statsmodels import robust"
   ]
  },
  {
   "cell_type": "code",
   "execution_count": 10,
   "metadata": {},
   "outputs": [
    {
     "data": {
      "text/plain": [
       "732.40549594176741"
      ]
     },
     "execution_count": 10,
     "metadata": {},
     "output_type": "execute_result"
    }
   ],
   "source": [
    "robust.mad(l)"
   ]
  },
  {
   "cell_type": "code",
   "execution_count": 11,
   "metadata": {
    "collapsed": true
   },
   "outputs": [],
   "source": [
    "dev = []\n",
    "for x in l:\n",
    "    dev.append(x-np.mean(l))"
   ]
  },
  {
   "cell_type": "code",
   "execution_count": 12,
   "metadata": {
    "collapsed": true
   },
   "outputs": [],
   "source": [
    "absl= []\n",
    "for x in dev:\n",
    "    absl.append(abs(x))\n"
   ]
  },
  {
   "cell_type": "code",
   "execution_count": 13,
   "metadata": {},
   "outputs": [
    {
     "data": {
      "text/plain": [
       "510.75"
      ]
     },
     "execution_count": 13,
     "metadata": {},
     "output_type": "execute_result"
    }
   ],
   "source": [
    "sum(absl) / len(l)"
   ]
  },
  {
   "cell_type": "code",
   "execution_count": 14,
   "metadata": {},
   "outputs": [
    {
     "data": {
      "text/plain": [
       "262656.25"
      ]
     },
     "execution_count": 14,
     "metadata": {},
     "output_type": "execute_result"
    }
   ],
   "source": [
    "510.75 ** 2"
   ]
  },
  {
   "cell_type": "code",
   "execution_count": 15,
   "metadata": {},
   "outputs": [
    {
     "data": {
      "text/plain": [
       "512.5"
      ]
     },
     "execution_count": 15,
     "metadata": {},
     "output_type": "execute_result"
    }
   ],
   "source": [
    "math.sqrt(262656.25)"
   ]
  },
  {
   "cell_type": "code",
   "execution_count": 16,
   "metadata": {},
   "outputs": [
    {
     "data": {
      "text/plain": [
       "593.04040053496078"
      ]
     },
     "execution_count": 16,
     "metadata": {},
     "output_type": "execute_result"
    }
   ],
   "source": [
    "np.std(l,ddof=1)"
   ]
  },
  {
   "cell_type": "code",
   "execution_count": 22,
   "metadata": {
    "collapsed": true
   },
   "outputs": [],
   "source": [
    "l = [60,\n",
    "57,\n",
    "63,\n",
    "54,\n",
    "58,\n",
    "59,\n",
    "62,\n",
    "60,\n",
    "62,\n",
    "56,\n",
    "63,\n",
    "65,\n",
    "60,\n",
    "58,\n",
    "75]"
   ]
  },
  {
   "cell_type": "code",
   "execution_count": 28,
   "metadata": {},
   "outputs": [
    {
     "data": {
      "text/plain": [
       "[54, 56, 57, 58, 58, 59, 60, 60, 60, 62, 62, 63, 63, 65, 75]"
      ]
     },
     "execution_count": 28,
     "metadata": {},
     "output_type": "execute_result"
    },
    {
     "data": {
      "image/png": "[encoded data removed]",
      "text/plain": [
       "<matplotlib.figure.Figure at 0x1f1950ebe0>"
      ]
     },
     "metadata": {},
     "output_type": "display_data"
    }
   ],
   "source": [
    "plt.boxplot(l)\n",
    "plt.grid()\n",
    "l.sort()\n",
    "l"
   ]
  },
  {
   "cell_type": "code",
   "execution_count": 11,
   "metadata": {
    "collapsed": true
   },
   "outputs": [],
   "source": [
    "l = [4,\n",
    "8,\n",
    "8,\n",
    "6,\n",
    "2,\n",
    "9,\n",
    "8,\n",
    "7,\n",
    "9,\n",
    "6,\n",
    "9,\n",
    "5,\n",
    "2,\n",
    "6,\n",
    "2,\n",
    "9,\n",
    "8,\n",
    "7,\n",
    "7,\n",
    "9]"
   ]
  },
  {
   "cell_type": "code",
   "execution_count": 12,
   "metadata": {},
   "outputs": [
    {
     "data": {
      "text/plain": [
       "[2, 2, 2, 4, 5, 6, 6, 6, 7, 7, 7, 8, 8, 8, 8, 9, 9, 9, 9, 9]"
      ]
     },
     "execution_count": 12,
     "metadata": {},
     "output_type": "execute_result"
    },
    {
     "data": {
      "image/png": "[encoded data removed]",
      "text/plain": [
       "<matplotlib.figure.Figure at 0x1f169b3588>"
      ]
     },
     "metadata": {},
     "output_type": "display_data"
    }
   ],
   "source": [
    "plt.boxplot(l)\n",
    "plt.grid()\n",
    "l.sort()\n",
    "l"
   ]
  },
  {
   "cell_type": "code",
   "execution_count": 20,
   "metadata": {
    "collapsed": true
   },
   "outputs": [],
   "source": [
    "l = [8,\n",
    "9,\n",
    "2,\n",
    "9,\n",
    "1,\n",
    "1,\n",
    "6,\n",
    "0,\n",
    "5,\n",
    "1,\n",
    "4,\n",
    "5,\n",
    "1,\n",
    "1,\n",
    "2,\n",
    "6,\n",
    "9,\n",
    "2,\n",
    "4,\n",
    "2,\n",
    "4,\n",
    "9,\n",
    "0,\n",
    "5,\n",
    "8,\n",
    "4,\n",
    "7,\n",
    "5]"
   ]
  },
  {
   "cell_type": "code",
   "execution_count": 21,
   "metadata": {},
   "outputs": [
    {
     "data": {
      "image/png": "[encoded data removed]",
      "text/plain": [
       "<matplotlib.figure.Figure at 0x1f1949c748>"
      ]
     },
     "metadata": {},
     "output_type": "display_data"
    }
   ],
   "source": [
    "plt.boxplot(l)\n",
    "plt.grid()\n",
    "l.sort()"
   ]
  },
  {
   "cell_type": "code",
   "execution_count": 29,
   "metadata": {
    "collapsed": true
   },
   "outputs": [],
   "source": [
    "l = [42,\n",
    "59,\n",
    "66,\n",
    "47,\n",
    "57,\n",
    "41,\n",
    "56,\n",
    "54,\n",
    "60,\n",
    "55,\n",
    "56,\n",
    "50,\n",
    "67,\n",
    "56,\n",
    "50,\n",
    "61,\n",
    "46,\n",
    "41,\n",
    "50,\n",
    "42,\n",
    "53,\n",
    "42,\n",
    "49,\n",
    "45,\n",
    "29,\n",
    "34,\n",
    "37,\n",
    "43,\n",
    "41,\n",
    "44]"
   ]
  },
  {
   "cell_type": "code",
   "execution_count": 36,
   "metadata": {},
   "outputs": [
    {
     "data": {
      "text/plain": [
       "array([ 42. ,  49.5,  56. ])"
      ]
     },
     "execution_count": 36,
     "metadata": {},
     "output_type": "execute_result"
    }
   ],
   "source": [
    "l.sort()\n",
    "np.percentile(l,[25,50,75])"
   ]
  },
  {
   "cell_type": "code",
   "execution_count": 37,
   "metadata": {},
   "outputs": [
    {
     "data": {
      "text/plain": [
       "[29,\n",
       " 34,\n",
       " 37,\n",
       " 41,\n",
       " 41,\n",
       " 41,\n",
       " 42,\n",
       " 42,\n",
       " 42,\n",
       " 43,\n",
       " 44,\n",
       " 45,\n",
       " 46,\n",
       " 47,\n",
       " 49,\n",
       " 50,\n",
       " 50,\n",
       " 50,\n",
       " 53,\n",
       " 54,\n",
       " 55,\n",
       " 56,\n",
       " 56,\n",
       " 56,\n",
       " 57,\n",
       " 59,\n",
       " 60,\n",
       " 61,\n",
       " 66,\n",
       " 67]"
      ]
     },
     "execution_count": 37,
     "metadata": {},
     "output_type": "execute_result"
    }
   ],
   "source": [
    "l"
   ]
  },
  {
   "cell_type": "code",
   "execution_count": null,
   "metadata": {
    "collapsed": true
   },
   "outputs": [],
   "source": [
    "x = 25\n",
    "u = 27.6\n",
    "stddev = 3.5\n",
    "n = 52\n"
   ]
  },
  {
   "cell_type": "code",
   "execution_count": null,
   "metadata": {
    "collapsed": true
   },
   "outputs": [],
   "source": [
    "z = (x-u)/(stddev/(math.sqrt(n)))"
   ]
  },
  {
   "cell_type": "code",
   "execution_count": 39,
   "metadata": {},
   "outputs": [
    {
     "data": {
      "text/plain": [
       "2.472222222222222"
      ]
     },
     "execution_count": 39,
     "metadata": {},
     "output_type": "execute_result"
    }
   ],
   "source": [
    "x = 36\n",
    "u = 27.1\n",
    "stddev = 3.6\n",
    "\n",
    "((x-u)/stddev)"
   ]
  },
  {
   "cell_type": "code",
   "execution_count": 41,
   "metadata": {},
   "outputs": [
    {
     "data": {
      "text/plain": [
       "2.472222222222222"
      ]
     },
     "execution_count": 41,
     "metadata": {},
     "output_type": "execute_result"
    }
   ],
   "source": [
    "(36 - 27.1) / 3.6"
   ]
  },
  {
   "cell_type": "code",
   "execution_count": 54,
   "metadata": {},
   "outputs": [
    {
     "name": "stdout",
     "output_type": "stream",
     "text": [
      "-2.0833333333333335\n",
      "-0.4166666666666667\n",
      "-3.3333333333333335\n",
      "-2.0\n",
      "2.0\n",
      "0.0\n"
     ]
    }
   ],
   "source": [
    "x = [34000,38000,31000,34200,43800,39000]\n",
    "u = 39000\n",
    "stddev = 2400\n",
    "for num in x:\n",
    "    print(((num-u)/stddev))"
   ]
  },
  {
   "cell_type": "code",
   "execution_count": 48,
   "metadata": {},
   "outputs": [
    {
     "data": {
      "text/plain": [
       "0.20326939182806841"
      ]
     },
     "execution_count": 48,
     "metadata": {},
     "output_type": "execute_result"
    }
   ],
   "source": []
  },
  {
   "cell_type": "code",
   "execution_count": 49,
   "metadata": {},
   "outputs": [
    {
     "data": {
      "text/plain": [
       "0.66275727315175048"
      ]
     },
     "execution_count": 49,
     "metadata": {},
     "output_type": "execute_result"
    }
   ],
   "source": []
  },
  {
   "cell_type": "code",
   "execution_count": 50,
   "metadata": {},
   "outputs": [
    {
     "data": {
      "text/plain": [
       "0.018762766434937749"
      ]
     },
     "execution_count": 50,
     "metadata": {},
     "output_type": "execute_result"
    }
   ],
   "source": []
  },
  {
   "cell_type": "code",
   "execution_count": 61,
   "metadata": {},
   "outputs": [
    {
     "name": "stdout",
     "output_type": "stream",
     "text": [
      "38\n",
      "1.0\n",
      "0.841344746069\n",
      "\n",
      "\n",
      "33\n",
      "-0.25\n",
      "0.401293674317\n",
      "\n",
      "\n",
      "45\n",
      "2.75\n",
      "0.997020236765\n",
      "\n",
      "\n",
      "30\n",
      "-1.0\n",
      "0.158655253931\n",
      "\n",
      "\n",
      "38\n",
      "1.0\n",
      "0.841344746069\n",
      "\n",
      "\n",
      "42\n",
      "2.0\n",
      "0.977249868052\n",
      "\n",
      "\n"
     ]
    }
   ],
   "source": [
    "xarray = [38,33,45,30,38,42]\n",
    "u = 34\n",
    "stddev = 4\n",
    "for x in xarray:\n",
    "    print(x)\n",
    "    z = ((x-u)/stddev)\n",
    "    print(z)\n",
    "    print(stats.norm.cdf(z))\n",
    "    print('\\n')"
   ]
  },
  {
   "cell_type": "code",
   "execution_count": 62,
   "metadata": {
    "collapsed": true
   },
   "outputs": [],
   "source": [
    "l =[24,\n",
    "37,\n",
    "48,\n",
    "34,\n",
    "35,\n",
    "41,\n",
    "40,\n",
    "25,\n",
    "32,\n",
    "21,\n",
    "39,\n",
    "43]"
   ]
  },
  {
   "cell_type": "code",
   "execution_count": 64,
   "metadata": {},
   "outputs": [
    {
     "name": "stdout",
     "output_type": "stream",
     "text": [
      "12\n"
     ]
    },
    {
     "data": {
      "text/plain": [
       "[21, 24, 25, 32, 34, 35, 37, 39, 40, 41, 43, 48]"
      ]
     },
     "execution_count": 64,
     "metadata": {},
     "output_type": "execute_result"
    },
    {
     "data": {
      "image/png": "[encoded data removed]",
      "text/plain": [
       "<matplotlib.figure.Figure at 0x1f194697f0>"
      ]
     },
     "metadata": {},
     "output_type": "display_data"
    }
   ],
   "source": [
    "plt.boxplot(l)\n",
    "plt.grid()\n",
    "l.sort()\n",
    "print(len(l))\n",
    "l"
   ]
  },
  {
   "cell_type": "code",
   "execution_count": 65,
   "metadata": {},
   "outputs": [
    {
     "data": {
      "text/plain": [
       "35.25"
      ]
     },
     "execution_count": 65,
     "metadata": {},
     "output_type": "execute_result"
    }
   ],
   "source": [
    "(np.percentile(l,25) + np.percentile(l,75) )/ 2"
   ]
  },
  {
   "cell_type": "code",
   "execution_count": 67,
   "metadata": {},
   "outputs": [
    {
     "name": "stdout",
     "output_type": "stream",
     "text": [
      "1,\n",
      "2,\n",
      "3,\n",
      "4,\n",
      "5,\n",
      "6,\n",
      "7,\n",
      "8,\n",
      "9,\n",
      "10,\n"
     ]
    }
   ],
   "source": [
    "for x in range(1,11):\n",
    "    print(str(x) + ',')"
   ]
  },
  {
   "cell_type": "code",
   "execution_count": 69,
   "metadata": {},
   "outputs": [
    {
     "data": {
      "text/plain": [
       "156"
      ]
     },
     "execution_count": 69,
     "metadata": {},
     "output_type": "execute_result"
    }
   ],
   "source": [
    "4 * 13 * 3"
   ]
  },
  {
   "cell_type": "code",
   "execution_count": 71,
   "metadata": {},
   "outputs": [
    {
     "data": {
      "text/plain": [
       "1000"
      ]
     },
     "execution_count": 71,
     "metadata": {},
     "output_type": "execute_result"
    }
   ],
   "source": [
    "4 * 5 * 5 * 5 * 2"
   ]
  },
  {
   "cell_type": "code",
   "execution_count": 72,
   "metadata": {},
   "outputs": [
    {
     "data": {
      "text/plain": [
       "0.0625"
      ]
     },
     "execution_count": 72,
     "metadata": {},
     "output_type": "execute_result"
    }
   ],
   "source": [
    "1/16"
   ]
  },
  {
   "cell_type": "code",
   "execution_count": 73,
   "metadata": {},
   "outputs": [
    {
     "data": {
      "text/plain": [
       "0.015625"
      ]
     },
     "execution_count": 73,
     "metadata": {},
     "output_type": "execute_result"
    }
   ],
   "source": [
    "0.0625 * 1/4"
   ]
  },
  {
   "cell_type": "code",
   "execution_count": 76,
   "metadata": {},
   "outputs": [
    {
     "data": {
      "text/plain": [
       "13.0"
      ]
     },
     "execution_count": 76,
     "metadata": {},
     "output_type": "execute_result"
    }
   ],
   "source": [
    "52/4"
   ]
  },
  {
   "cell_type": "code",
   "execution_count": 77,
   "metadata": {},
   "outputs": [
    {
     "data": {
      "text/plain": [
       "0.11743341404358354"
      ]
     },
     "execution_count": 77,
     "metadata": {},
     "output_type": "execute_result"
    }
   ],
   "source": [
    "97/826"
   ]
  },
  {
   "cell_type": "code",
   "execution_count": 78,
   "metadata": {},
   "outputs": [
    {
     "data": {
      "text/plain": [
       "0.07950819672131147"
      ]
     },
     "execution_count": 78,
     "metadata": {},
     "output_type": "execute_result"
    }
   ],
   "source": [
    "97/1220"
   ]
  },
  {
   "cell_type": "code",
   "execution_count": 83,
   "metadata": {},
   "outputs": [
    {
     "data": {
      "text/plain": [
       "0.479020979020979"
      ]
     },
     "execution_count": 83,
     "metadata": {},
     "output_type": "execute_result"
    }
   ],
   "source": [
    "137/286"
   ]
  },
  {
   "cell_type": "code",
   "execution_count": 85,
   "metadata": {},
   "outputs": [
    {
     "data": {
      "text/plain": [
       "0.46099290780141844"
      ]
     },
     "execution_count": 85,
     "metadata": {},
     "output_type": "execute_result"
    }
   ],
   "source": [
    "65/141"
   ]
  },
  {
   "cell_type": "code",
   "execution_count": 87,
   "metadata": {},
   "outputs": [
    {
     "data": {
      "text/plain": [
       "0.44525547445255476"
      ]
     },
     "execution_count": 87,
     "metadata": {},
     "output_type": "execute_result"
    }
   ],
   "source": [
    "61/137"
   ]
  },
  {
   "cell_type": "code",
   "execution_count": 89,
   "metadata": {},
   "outputs": [
    {
     "data": {
      "text/plain": [
       "0.019230769230769232"
      ]
     },
     "execution_count": 89,
     "metadata": {},
     "output_type": "execute_result"
    }
   ],
   "source": [
    "(1/4) * (1/13)"
   ]
  },
  {
   "cell_type": "code",
   "execution_count": 90,
   "metadata": {},
   "outputs": [
    {
     "data": {
      "text/plain": [
       "0.2625"
      ]
     },
     "execution_count": 90,
     "metadata": {},
     "output_type": "execute_result"
    }
   ],
   "source": [
    "210/800"
   ]
  },
  {
   "cell_type": "code",
   "execution_count": 91,
   "metadata": {},
   "outputs": [
    {
     "data": {
      "text/plain": [
       "0.06890625"
      ]
     },
     "execution_count": 91,
     "metadata": {},
     "output_type": "execute_result"
    }
   ],
   "source": [
    "0.2625 * 0.2625\n"
   ]
  },
  {
   "cell_type": "code",
   "execution_count": 92,
   "metadata": {},
   "outputs": [
    {
     "data": {
      "text/plain": [
       "0.7375"
      ]
     },
     "execution_count": 92,
     "metadata": {},
     "output_type": "execute_result"
    }
   ],
   "source": [
    "590/800"
   ]
  },
  {
   "cell_type": "code",
   "execution_count": 93,
   "metadata": {},
   "outputs": [
    {
     "data": {
      "text/plain": [
       "0.54390625"
      ]
     },
     "execution_count": 93,
     "metadata": {},
     "output_type": "execute_result"
    }
   ],
   "source": [
    "0.7375 * 0.7375"
   ]
  },
  {
   "cell_type": "code",
   "execution_count": 95,
   "metadata": {},
   "outputs": [
    {
     "data": {
      "text/plain": [
       "0.45609374999999996"
      ]
     },
     "execution_count": 95,
     "metadata": {},
     "output_type": "execute_result"
    }
   ],
   "source": [
    "1-0.54390625"
   ]
  },
  {
   "cell_type": "code",
   "execution_count": 99,
   "metadata": {},
   "outputs": [
    {
     "data": {
      "text/plain": [
       "5.904899999999999e-06"
      ]
     },
     "execution_count": 99,
     "metadata": {},
     "output_type": "execute_result"
    }
   ],
   "source": [
    ".09 * .09 * .09 * .09 * .09 "
   ]
  },
  {
   "cell_type": "code",
   "execution_count": 100,
   "metadata": {},
   "outputs": [
    {
     "data": {
      "text/plain": [
       "0.6240321451000002"
      ]
     },
     "execution_count": 100,
     "metadata": {},
     "output_type": "execute_result"
    }
   ],
   "source": [
    ".91 *.91 *.91 *.91 *.91"
   ]
  },
  {
   "cell_type": "code",
   "execution_count": 101,
   "metadata": {},
   "outputs": [
    {
     "data": {
      "text/plain": [
       "0.9999940951"
      ]
     },
     "execution_count": 101,
     "metadata": {},
     "output_type": "execute_result"
    }
   ],
   "source": [
    "1-5.904899999999999e-06"
   ]
  },
  {
   "cell_type": "code",
   "execution_count": 102,
   "metadata": {},
   "outputs": [
    {
     "data": {
      "text/plain": [
       "0.376"
      ]
     },
     "execution_count": 102,
     "metadata": {},
     "output_type": "execute_result"
    }
   ],
   "source": [
    "1-.624"
   ]
  },
  {
   "cell_type": "code",
   "execution_count": 104,
   "metadata": {},
   "outputs": [
    {
     "data": {
      "text/plain": [
       "0.3636363636363637"
      ]
     },
     "execution_count": 104,
     "metadata": {},
     "output_type": "execute_result"
    }
   ],
   "source": [
    "((2/3)*(1/7)) / ((2/3)*(1/7) + ((1/3) * (1/2)))"
   ]
  },
  {
   "cell_type": "code",
   "execution_count": 106,
   "metadata": {},
   "outputs": [
    {
     "data": {
      "text/plain": [
       "0.07142857142857142"
      ]
     },
     "execution_count": 106,
     "metadata": {},
     "output_type": "execute_result"
    }
   ],
   "source": [
    "((.35)*(.1)) / ((.35)*(.1) + ((.65) * (.7)))"
   ]
  },
  {
   "cell_type": "code",
   "execution_count": 184,
   "metadata": {
    "collapsed": true
   },
   "outputs": [],
   "source": [
    "PA= 1/300\n",
    "PBA=.70\n",
    "PAm=299/300\n",
    "PBAm=.15"
   ]
  },
  {
   "cell_type": "code",
   "execution_count": 185,
   "metadata": {},
   "outputs": [
    {
     "data": {
      "text/plain": [
       "0.015367727771679475"
      ]
     },
     "execution_count": 185,
     "metadata": {},
     "output_type": "execute_result"
    }
   ],
   "source": [
    "PB = (PA*PBA) + (PAm * PBAm)\n",
    "PAandB = PA*PBA\n",
    "PAandB/PB"
   ]
  },
  {
   "cell_type": "code",
   "execution_count": 186,
   "metadata": {},
   "outputs": [
    {
     "data": {
      "text/plain": [
       "0.9342723004694836"
      ]
     },
     "execution_count": 186,
     "metadata": {},
     "output_type": "execute_result"
    }
   ],
   "source": [
    "1-0.06572769953051642"
   ]
  },
  {
   "cell_type": "code",
   "execution_count": 190,
   "metadata": {},
   "outputs": [
    {
     "data": {
      "text/plain": [
       "0.9988209864413441"
      ]
     },
     "execution_count": 190,
     "metadata": {},
     "output_type": "execute_result"
    }
   ],
   "source": [
    "PA= 299/300\n",
    "PBA=.85\n",
    "PAm=1/300\n",
    "PBAm=.3\n",
    "PB = (PA*PBA) + (PAm * PBAm)\n",
    "PAandB = PA*PBA\n",
    "PAandB/PB"
   ]
  },
  {
   "cell_type": "code",
   "execution_count": 192,
   "metadata": {},
   "outputs": [
    {
     "data": {
      "text/plain": [
       "0.5833333333333333"
      ]
     },
     "execution_count": 192,
     "metadata": {},
     "output_type": "execute_result"
    }
   ],
   "source": [
    "(1/6+1/2)-(1/6 * 1/2)\n"
   ]
  },
  {
   "cell_type": "code",
   "execution_count": 193,
   "metadata": {},
   "outputs": [
    {
     "data": {
      "text/plain": [
       "0.8333333333333334"
      ]
     },
     "execution_count": 193,
     "metadata": {},
     "output_type": "execute_result"
    }
   ],
   "source": [
    "5/6"
   ]
  },
  {
   "cell_type": "code",
   "execution_count": 194,
   "metadata": {},
   "outputs": [
    {
     "data": {
      "text/plain": [
       "0.6666666666666666"
      ]
     },
     "execution_count": 194,
     "metadata": {},
     "output_type": "execute_result"
    }
   ],
   "source": [
    "4/6"
   ]
  },
  {
   "cell_type": "code",
   "execution_count": 196,
   "metadata": {},
   "outputs": [
    {
     "data": {
      "text/plain": [
       "0.9436345966958212"
      ]
     },
     "execution_count": 196,
     "metadata": {},
     "output_type": "execute_result"
    }
   ],
   "source": [
    "1 - 58/1029"
   ]
  },
  {
   "cell_type": "code",
   "execution_count": 198,
   "metadata": {},
   "outputs": [
    {
     "data": {
      "text/plain": [
       "0.6326530612244898"
      ]
     },
     "execution_count": 198,
     "metadata": {},
     "output_type": "execute_result"
    }
   ],
   "source": [
    "(338+255+58) / 1029"
   ]
  },
  {
   "cell_type": "code",
   "execution_count": 199,
   "metadata": {},
   "outputs": [
    {
     "data": {
      "text/plain": [
       "0.3673469387755102"
      ]
     },
     "execution_count": 199,
     "metadata": {},
     "output_type": "execute_result"
    }
   ],
   "source": [
    "(107+271) / 1029"
   ]
  },
  {
   "cell_type": "code",
   "execution_count": 200,
   "metadata": {},
   "outputs": [
    {
     "data": {
      "text/plain": [
       "0.304178814382896"
      ]
     },
     "execution_count": 200,
     "metadata": {},
     "output_type": "execute_result"
    }
   ],
   "source": [
    "(58+255)/1029"
   ]
  },
  {
   "cell_type": "code",
   "execution_count": 201,
   "metadata": {},
   "outputs": [
    {
     "data": {
      "text/plain": [
       "0.3130311614730878"
      ]
     },
     "execution_count": 201,
     "metadata": {},
     "output_type": "execute_result"
    }
   ],
   "source": [
    "1105/3530"
   ]
  },
  {
   "cell_type": "code",
   "execution_count": 202,
   "metadata": {},
   "outputs": [
    {
     "data": {
      "text/plain": [
       "0.22436260623229462"
      ]
     },
     "execution_count": 202,
     "metadata": {},
     "output_type": "execute_result"
    }
   ],
   "source": [
    "792/3530"
   ]
  },
  {
   "cell_type": "code",
   "execution_count": 205,
   "metadata": {},
   "outputs": [
    {
     "data": {
      "text/plain": [
       "0.5113314447592068"
      ]
     },
     "execution_count": 205,
     "metadata": {},
     "output_type": "execute_result"
    }
   ],
   "source": [
    "((792/3530) + (1105/3530))-(92/3530)"
   ]
  },
  {
   "cell_type": "code",
   "execution_count": 207,
   "metadata": {},
   "outputs": [
    {
     "data": {
      "text/plain": [
       "0.9739376770538242"
      ]
     },
     "execution_count": 207,
     "metadata": {},
     "output_type": "execute_result"
    }
   ],
   "source": [
    "A = 2425/3530\n",
    "B = 2738/3530\n",
    "BandA = 1725/3530\n",
    "(A + B) - BandA"
   ]
  },
  {
   "cell_type": "code",
   "execution_count": 208,
   "metadata": {},
   "outputs": [
    {
     "data": {
      "text/plain": [
       "0.5113314447592068"
      ]
     },
     "execution_count": 208,
     "metadata": {},
     "output_type": "execute_result"
    }
   ],
   "source": [
    "A = 1105/3530\n",
    "B = 792/3530\n",
    "BandA = 92/3530\n",
    "(A + B) - BandA"
   ]
  },
  {
   "cell_type": "code",
   "execution_count": 210,
   "metadata": {},
   "outputs": [
    {
     "data": {
      "text/plain": [
       "0.830152671755725"
      ]
     },
     "execution_count": 210,
     "metadata": {},
     "output_type": "execute_result"
    }
   ],
   "source": [
    "T = 1048\n",
    "A = 617/T\n",
    "B = 544/T\n",
    "BandA = 291/T\n",
    "(A + B) - BandA"
   ]
  },
  {
   "cell_type": "code",
   "execution_count": 211,
   "metadata": {},
   "outputs": [
    {
     "data": {
      "text/plain": [
       "0.7032442748091604"
      ]
     },
     "execution_count": 211,
     "metadata": {},
     "output_type": "execute_result"
    }
   ],
   "source": [
    "T = 1048\n",
    "A = 402/T\n",
    "B = 504/T\n",
    "BandA = 169/T\n",
    "(A + B) - BandA"
   ]
  },
  {
   "cell_type": "code",
   "execution_count": 212,
   "metadata": {},
   "outputs": [
    {
     "data": {
      "text/plain": [
       "0.991412213740458"
      ]
     },
     "execution_count": 212,
     "metadata": {},
     "output_type": "execute_result"
    }
   ],
   "source": [
    "T = 1048\n",
    "A = (402+617)/T\n",
    "B = 544/T\n",
    "BandA = (233+291)/T\n",
    "(A + B) - BandA"
   ]
  },
  {
   "cell_type": "code",
   "execution_count": 223,
   "metadata": {},
   "outputs": [
    {
     "data": {
      "text/plain": [
       "0.005494505494505495"
      ]
     },
     "execution_count": 223,
     "metadata": {},
     "output_type": "execute_result"
    }
   ],
   "source": [
    "(1/14) * (1/13)"
   ]
  },
  {
   "cell_type": "code",
   "execution_count": 217,
   "metadata": {},
   "outputs": [
    {
     "data": {
      "text/plain": [
       "0.006944444444444444"
      ]
     },
     "execution_count": 217,
     "metadata": {},
     "output_type": "execute_result"
    }
   ],
   "source": [
    "0.08333333333333333* 0.08333333333333333\n"
   ]
  },
  {
   "cell_type": "code",
   "execution_count": 225,
   "metadata": {},
   "outputs": [
    {
     "data": {
      "text/plain": [
       "0.006722689075630254"
      ]
     },
     "execution_count": 225,
     "metadata": {},
     "output_type": "execute_result"
    }
   ],
   "source": [
    "(16/52) * (15/51) * (14/50) * (13/49)"
   ]
  },
  {
   "cell_type": "code",
   "execution_count": 227,
   "metadata": {},
   "outputs": [
    {
     "data": {
      "text/plain": [
       "0.2175824175824176"
      ]
     },
     "execution_count": 227,
     "metadata": {},
     "output_type": "execute_result"
    }
   ],
   "source": [
    "(36/52) * (35/51) * (34/50) * (33/49)"
   ]
  },
  {
   "cell_type": "code",
   "execution_count": 229,
   "metadata": {},
   "outputs": [
    {
     "data": {
      "text/plain": [
       "0.052941176470588235"
      ]
     },
     "execution_count": 229,
     "metadata": {},
     "output_type": "execute_result"
    }
   ],
   "source": [
    "(9/17) * (8/16) * (7/15) * (6/14)"
   ]
  },
  {
   "cell_type": "code",
   "execution_count": 230,
   "metadata": {},
   "outputs": [
    {
     "data": {
      "text/plain": [
       "0.029411764705882353"
      ]
     },
     "execution_count": 230,
     "metadata": {},
     "output_type": "execute_result"
    }
   ],
   "source": [
    "(8/17) * (7/16) * (6/15) * (5/14)"
   ]
  },
  {
   "cell_type": "code",
   "execution_count": 231,
   "metadata": {},
   "outputs": [
    {
     "data": {
      "text/plain": [
       "2313441"
      ]
     },
     "execution_count": 231,
     "metadata": {},
     "output_type": "execute_result"
    }
   ],
   "source": [
    "39**4"
   ]
  },
  {
   "cell_type": "code",
   "execution_count": 233,
   "metadata": {},
   "outputs": [
    {
     "data": {
      "text/plain": [
       "82251.0"
      ]
     },
     "execution_count": 233,
     "metadata": {},
     "output_type": "execute_result"
    }
   ],
   "source": [
    "n = 39 \n",
    "r =4\n",
    "math.factorial(n)/((math.factorial(n-r))*math.factorial(r))"
   ]
  },
  {
   "cell_type": "code",
   "execution_count": 236,
   "metadata": {},
   "outputs": [
    {
     "data": {
      "text/plain": [
       "1.2157906894749e-05"
      ]
     },
     "execution_count": 236,
     "metadata": {},
     "output_type": "execute_result"
    }
   ],
   "source": [
    "1/82251.0"
   ]
  },
  {
   "cell_type": "code",
   "execution_count": 248,
   "metadata": {
    "collapsed": true
   },
   "outputs": [],
   "source": [
    "d = 27+448+724+1400"
   ]
  },
  {
   "cell_type": "code",
   "execution_count": 249,
   "metadata": {
    "collapsed": true
   },
   "outputs": [],
   "source": [
    "l = [27/d,448/d,724/d,1400/d]"
   ]
  },
  {
   "cell_type": "code",
   "execution_count": 250,
   "metadata": {},
   "outputs": [
    {
     "data": {
      "text/plain": [
       "[0.010388611004232396,\n",
       " 0.17237398999615236,\n",
       " 0.2785686802616391,\n",
       " 0.5386687187379762]"
      ]
     },
     "execution_count": 250,
     "metadata": {},
     "output_type": "execute_result"
    }
   ],
   "source": [
    "l"
   ]
  },
  {
   "cell_type": "code",
   "execution_count": 2,
   "metadata": {},
   "outputs": [
    {
     "data": {
      "text/plain": [
       "44340.0"
      ]
     },
     "execution_count": 2,
     "metadata": {},
     "output_type": "execute_result"
    }
   ],
   "source": [
    "39000*1.06 + 3000"
   ]
  },
  {
   "cell_type": "code",
   "execution_count": 3,
   "metadata": {},
   "outputs": [
    {
     "data": {
      "text/plain": [
       "3015"
      ]
     },
     "execution_count": 3,
     "metadata": {},
     "output_type": "execute_result"
    }
   ],
   "source": [
    "1520+1495"
   ]
  },
  {
   "cell_type": "code",
   "execution_count": 4,
   "metadata": {},
   "outputs": [
    {
     "data": {
      "text/plain": [
       "25"
      ]
     },
     "execution_count": 4,
     "metadata": {},
     "output_type": "execute_result"
    }
   ],
   "source": [
    "1520-1495"
   ]
  },
  {
   "cell_type": "code",
   "execution_count": 13,
   "metadata": {},
   "outputs": [
    {
     "name": "stdout",
     "output_type": "stream",
     "text": [
      "-9.736842105263158\n",
      "9.210526315789473\n"
     ]
    }
   ],
   "source": [
    "print((1 - (1/38)) * (-10))\n",
    "print((1/38)*(350))"
   ]
  },
  {
   "cell_type": "code",
   "execution_count": 14,
   "metadata": {},
   "outputs": [
    {
     "data": {
      "text/plain": [
       "-0.526315789473685"
      ]
     },
     "execution_count": 14,
     "metadata": {},
     "output_type": "execute_result"
    }
   ],
   "source": [
    "9.210526315789473-9.736842105263158"
   ]
  },
  {
   "cell_type": "code",
   "execution_count": 15,
   "metadata": {},
   "outputs": [
    {
     "data": {
      "text/plain": [
       "-526.315789473685"
      ]
     },
     "execution_count": 15,
     "metadata": {},
     "output_type": "execute_result"
    }
   ],
   "source": [
    "-0.526315789473685 * 1000\n"
   ]
  },
  {
   "cell_type": "code",
   "execution_count": 10,
   "metadata": {},
   "outputs": [
    {
     "data": {
      "text/plain": [
       "-256"
      ]
     },
     "execution_count": 10,
     "metadata": {},
     "output_type": "execute_result"
    }
   ],
   "source": [
    "3640 - 3896"
   ]
  },
  {
   "cell_type": "code",
   "execution_count": 1,
   "metadata": {},
   "outputs": [
    {
     "name": "stdout",
     "output_type": "stream",
     "text": [
      "12\n",
      "3.995963079726257e-05\n",
      "11\n",
      "5.296974314985969e-05\n",
      "10\n",
      "7.021570603586053e-05\n",
      "9\n",
      "9.307663358241978e-05\n",
      "8\n",
      "0.00012338065381855648\n",
      "7\n",
      "0.00016355109924785395\n",
      "6\n",
      "0.00021680029435180642\n",
      "5\n",
      "0.00028738643669890625\n",
      "4\n",
      "0.00038095411376366643\n",
      "3\n",
      "0.0005049856856867207\n",
      "2\n",
      "0.0006693996298637925\n",
      "1\n",
      "0.0008873436954008414\n"
     ]
    }
   ],
   "source": [
    "p = .43\n",
    "t = 12\n",
    "l = []\n",
    "for x in range(t,0,-1):\n",
    "    print(x)\n",
    "    val = ((p**(x) * ((1-p)**(t-x))))\n",
    "    l.append(val)\n",
    "    print(val)"
   ]
  },
  {
   "cell_type": "code",
   "execution_count": 22,
   "metadata": {},
   "outputs": [
    {
     "data": {
      "text/plain": [
       "0.0007918995884871167"
      ]
     },
     "execution_count": 22,
     "metadata": {},
     "output_type": "execute_result"
    }
   ],
   "source": [
    "p = .37\n",
    "t = 12\n",
    "((p**(3) * ((1-p)**(9))))"
   ]
  },
  {
   "cell_type": "code",
   "execution_count": 26,
   "metadata": {},
   "outputs": [
    {
     "data": {
      "text/plain": [
       "0.008345329996928571"
      ]
     },
     "execution_count": 26,
     "metadata": {},
     "output_type": "execute_result"
    }
   ],
   "source": [
    "sum(l[0:4])"
   ]
  },
  {
   "cell_type": "code",
   "execution_count": 33,
   "metadata": {},
   "outputs": [
    {
     "data": {
      "text/plain": [
       "0.00011977967472558262"
      ]
     },
     "execution_count": 33,
     "metadata": {},
     "output_type": "execute_result"
    }
   ],
   "source": [
    "(.46**4) * (.54**8)"
   ]
  },
  {
   "cell_type": "code",
   "execution_count": 34,
   "metadata": {},
   "outputs": [
    {
     "data": {
      "text/plain": [
       "1335.7858949488957"
      ]
     },
     "execution_count": 34,
     "metadata": {},
     "output_type": "execute_result"
    }
   ],
   "source": [
    ".16/ 0.00011977967472558262"
   ]
  },
  {
   "cell_type": "code",
   "execution_count": 38,
   "metadata": {},
   "outputs": [
    {
     "data": {
      "text/plain": [
       "0.0005970623348175167"
      ]
     },
     "execution_count": 38,
     "metadata": {},
     "output_type": "execute_result"
    }
   ],
   "source": [
    ".41**3 * .59**9"
   ]
  },
  {
   "cell_type": "code",
   "execution_count": 39,
   "metadata": {},
   "outputs": [
    {
     "data": {
      "text/plain": [
       "220.07752346354332"
      ]
     },
     "execution_count": 39,
     "metadata": {},
     "output_type": "execute_result"
    }
   ],
   "source": [
    ".1314/0.0005970623348175167"
   ]
  },
  {
   "cell_type": "code",
   "execution_count": 73,
   "metadata": {
    "collapsed": true
   },
   "outputs": [],
   "source": [
    "l = []\n",
    "for x in range(1,13):\n",
    "    l.append((stats.binom.cdf(x,12,.38)))"
   ]
  },
  {
   "cell_type": "code",
   "execution_count": 74,
   "metadata": {},
   "outputs": [
    {
     "data": {
      "text/plain": [
       "0.1634175428526462"
      ]
     },
     "execution_count": 74,
     "metadata": {},
     "output_type": "execute_result"
    }
   ],
   "source": [
    "l[2]-l[1]"
   ]
  },
  {
   "cell_type": "code",
   "execution_count": 75,
   "metadata": {},
   "outputs": [
    {
     "data": {
      "text/plain": [
       "0.49571913117902933"
      ]
     },
     "execution_count": 75,
     "metadata": {},
     "output_type": "execute_result"
    }
   ],
   "source": [
    "l[3]"
   ]
  },
  {
   "cell_type": "code",
   "execution_count": 76,
   "metadata": {},
   "outputs": [
    {
     "data": {
      "text/plain": [
       "0.7296389319484099"
      ]
     },
     "execution_count": 76,
     "metadata": {},
     "output_type": "execute_result"
    }
   ],
   "source": [
    "1 - l[2]"
   ]
  },
  {
   "cell_type": "code",
   "execution_count": 77,
   "metadata": {},
   "outputs": [
    {
     "data": {
      "text/plain": [
       "0.95775699558124849"
      ]
     },
     "execution_count": 77,
     "metadata": {},
     "output_type": "execute_result"
    }
   ],
   "source": [
    "l[6]"
   ]
  },
  {
   "cell_type": "code",
   "execution_count": 78,
   "metadata": {
    "collapsed": true
   },
   "outputs": [],
   "source": [
    "l = []\n",
    "for x in range(1,9):\n",
    "    l.append((stats.binom.cdf(x,8,.5)))"
   ]
  },
  {
   "cell_type": "code",
   "execution_count": 82,
   "metadata": {},
   "outputs": [
    {
     "data": {
      "text/plain": [
       "0.21875000000000011"
      ]
     },
     "execution_count": 82,
     "metadata": {},
     "output_type": "execute_result"
    }
   ],
   "source": [
    "l[4] - l[3]"
   ]
  },
  {
   "cell_type": "code",
   "execution_count": 85,
   "metadata": {},
   "outputs": [
    {
     "data": {
      "text/plain": [
       "0.14453125"
      ]
     },
     "execution_count": 85,
     "metadata": {},
     "output_type": "execute_result"
    }
   ],
   "source": [
    "1 - l[4]"
   ]
  },
  {
   "cell_type": "code",
   "execution_count": 86,
   "metadata": {},
   "outputs": [
    {
     "data": {
      "text/plain": [
       "0.85546875"
      ]
     },
     "execution_count": 86,
     "metadata": {},
     "output_type": "execute_result"
    }
   ],
   "source": [
    "l[4]"
   ]
  },
  {
   "cell_type": "code",
   "execution_count": 95,
   "metadata": {
    "collapsed": true
   },
   "outputs": [],
   "source": [
    "l = []\n",
    "for x in range(1,12):\n",
    "    l.append((stats.binom.cdf(x,12,.34)))"
   ]
  },
  {
   "cell_type": "code",
   "execution_count": 96,
   "metadata": {},
   "outputs": [
    {
     "data": {
      "text/plain": [
       "0.20547304255772642"
      ]
     },
     "execution_count": 96,
     "metadata": {},
     "output_type": "execute_result"
    }
   ],
   "source": [
    "l[2] - l[1]"
   ]
  },
  {
   "cell_type": "code",
   "execution_count": 97,
   "metadata": {},
   "outputs": [
    {
     "data": {
      "text/plain": [
       "0.62580527579389023"
      ]
     },
     "execution_count": 97,
     "metadata": {},
     "output_type": "execute_result"
    }
   ],
   "source": [
    "1-l[2]"
   ]
  },
  {
   "cell_type": "code",
   "execution_count": 98,
   "metadata": {},
   "outputs": [
    {
     "data": {
      "text/plain": [
       "0.16872168164838336"
      ]
     },
     "execution_count": 98,
     "metadata": {},
     "output_type": "execute_result"
    }
   ],
   "source": [
    "l[1]"
   ]
  },
  {
   "cell_type": "code",
   "execution_count": 120,
   "metadata": {},
   "outputs": [
    {
     "name": "stdout",
     "output_type": "stream",
     "text": [
      "0.098867482624\n"
     ]
    }
   ],
   "source": [
    "l = []\n",
    "for x in range(0,7):\n",
    "    l.append((stats.binom.cdf(x,6,.32)))\n",
    "print(l[0])"
   ]
  },
  {
   "cell_type": "code",
   "execution_count": 121,
   "metadata": {},
   "outputs": [
    {
     "name": "stdout",
     "output_type": "stream",
     "text": [
      "0.279155245056\n",
      "0.32841793536\n",
      "0.20606615552\n",
      "0.07272923136\n",
      "0.013690208256\n",
      "0.001073741824\n"
     ]
    }
   ],
   "source": [
    "for x in range(0,6):\n",
    "    print(l[x+1] - l[x])"
   ]
  },
  {
   "cell_type": "code",
   "execution_count": 122,
   "metadata": {},
   "outputs": [
    {
     "data": {
      "text/plain": [
       "0.33086860533727203"
      ]
     },
     "execution_count": 122,
     "metadata": {},
     "output_type": "execute_result"
    }
   ],
   "source": [
    "np.std(l)"
   ]
  },
  {
   "cell_type": "code",
   "execution_count": 123,
   "metadata": {},
   "outputs": [
    {
     "data": {
      "text/plain": [
       "1.92"
      ]
     },
     "execution_count": 123,
     "metadata": {},
     "output_type": "execute_result"
    }
   ],
   "source": [
    "6 * .32"
   ]
  },
  {
   "cell_type": "code",
   "execution_count": 127,
   "metadata": {},
   "outputs": [
    {
     "data": {
      "text/plain": [
       "6206.5772948273725"
      ]
     },
     "execution_count": 127,
     "metadata": {},
     "output_type": "execute_result"
    }
   ],
   "source": [
    "l = [47953,\n",
    "41863,\n",
    "27057,\n",
    "34729,\n",
    "33920,\n",
    "41466,\n",
    "41912,\n",
    "37461,\n",
    "24779,\n",
    "31891,\n",
    "37718,\n",
    "34450,\n",
    "33069,\n",
    "38562,\n",
    "34278,\n",
    "45398]\n",
    "np.mean(l)\n",
    "np.std(l,ddof=1)"
   ]
  },
  {
   "cell_type": "markdown",
   "metadata": {},
   "source": [
    "np.random.normal(69.4,3,size=1000)"
   ]
  },
  {
   "cell_type": "code",
   "execution_count": 128,
   "metadata": {},
   "outputs": [
    {
     "data": {
      "text/plain": [
       "array([ 70.26341396,  66.03487824,  70.8429021 ,  68.20863165,\n",
       "        75.63507348,  69.7960438 ,  66.43713393,  66.51356578,\n",
       "        78.6131919 ,  76.40296565,  66.29802262,  69.78602986,\n",
       "        64.98304189,  69.20522661,  73.41250497,  71.22930654,\n",
       "        71.95784825,  67.57149721,  69.3048969 ,  70.2105988 ,\n",
       "        65.86359761,  67.39498527,  71.81952165,  67.45731726,\n",
       "        68.39599631,  71.35606631,  68.58769285,  73.4638188 ,\n",
       "        74.5349057 ,  68.86293755,  72.60298335,  71.03657491,\n",
       "        67.70157138,  67.30439083,  68.83058527,  69.39892574,\n",
       "        65.52111416,  69.00197593,  69.53950904,  69.21506708,\n",
       "        68.75540483,  70.73785531,  70.79489902,  70.04377474,\n",
       "        71.76934728,  69.00027176,  66.65334927,  71.55469688,\n",
       "        70.12205161,  66.93902278,  65.04153181,  67.31891766,\n",
       "        69.66052848,  71.18292351,  65.41492493,  69.72857338,\n",
       "        68.04926197,  70.88018092,  70.96458839,  64.87447552,\n",
       "        71.87276516,  70.85391247,  72.81207109,  73.69939039,\n",
       "        67.15796204,  74.54196295,  75.80717289,  71.18450738,\n",
       "        66.06949529,  68.59123158,  74.30911557,  67.63307673,\n",
       "        74.9902254 ,  69.8384849 ,  72.36193008,  63.23355916,\n",
       "        65.82382556,  69.8903033 ,  70.63774416,  71.3826413 ,\n",
       "        71.07750938,  73.18858276,  68.06820229,  70.43998482,\n",
       "        73.7457622 ,  70.41063521,  73.95956138,  67.62900637,\n",
       "        75.71346512,  69.79967355,  70.1901542 ,  70.7760698 ,\n",
       "        68.0305279 ,  71.12679189,  69.29989522,  72.46237601,\n",
       "        68.5318398 ,  69.75104806,  70.62724922,  73.11788689,\n",
       "        65.86553042,  69.85353141,  70.74266577,  66.7245774 ,\n",
       "        64.25802923,  73.15663915,  70.38220792,  68.1620592 ,\n",
       "        72.93931311,  67.9263496 ,  71.80984904,  68.84440501,\n",
       "        68.8505117 ,  72.29750469,  71.09492652,  71.66446668,\n",
       "        62.77956234,  69.55655298,  69.02931963,  71.15087057,\n",
       "        65.42427173,  69.11054482,  70.78906696,  66.38624577,\n",
       "        68.66611365,  64.07412804,  69.59165607,  67.7124531 ,\n",
       "        78.27707432,  72.26397973,  70.59847289,  75.17925758,\n",
       "        70.38127974,  70.0107495 ,  75.28633844,  67.28528773,\n",
       "        65.94901058,  68.89008465,  65.32581069,  66.17315307,\n",
       "        73.2487095 ,  71.10314705,  65.36887717,  72.9761923 ,\n",
       "        67.2518889 ,  69.20510462,  70.57073473,  67.06254209,\n",
       "        77.80450642,  67.40585371,  67.34078886,  66.39359887,\n",
       "        71.46822264,  64.26658643,  69.49951084,  65.97008663,\n",
       "        73.28547211,  66.53056084,  71.94575767,  68.01131865,\n",
       "        71.24333602,  70.03300965,  70.34378926,  70.1591171 ,\n",
       "        72.80973007,  66.41329636,  69.29753643,  67.04300615,\n",
       "        67.7895335 ,  70.80381296,  69.44107727,  69.43677466,\n",
       "        73.63392804,  70.08361561,  68.05608007,  68.56600259,\n",
       "        72.72266726,  72.47291679,  68.29925083,  70.46379965,\n",
       "        69.68062376,  69.03161085,  61.17119081,  71.99513039,\n",
       "        66.93568264,  62.02751483,  69.60618254,  69.51021791,\n",
       "        68.09751145,  72.13638047,  69.55744639,  77.04184791,\n",
       "        74.20744644,  68.84695552,  64.94471972,  66.58193983,\n",
       "        66.33561491,  72.54341541,  65.93209115,  72.20649817,\n",
       "        73.86859167,  72.29800953,  68.74626238,  61.27916362,\n",
       "        65.8408955 ,  60.97240178,  75.95938699,  68.52689432,\n",
       "        70.74285963,  68.83986826,  68.79820722,  71.7279446 ,\n",
       "        64.25030745,  68.17525599,  73.64161428,  70.89185524,\n",
       "        66.82480461,  71.79189424,  68.28624495,  61.20698834,\n",
       "        71.36162345,  71.8464883 ,  69.14485091,  68.06107483,\n",
       "        69.73646155,  70.63768231,  70.39317074,  64.0883242 ,\n",
       "        69.43318854,  72.45873256,  75.89822583,  71.23585258,\n",
       "        68.99017761,  68.17820087,  68.71710392,  68.69107009,\n",
       "        72.23836551,  67.97622429,  66.63655736,  70.09637672,\n",
       "        74.76921093,  65.74923213,  67.30891754,  65.19881803,\n",
       "        63.15349276,  64.88552288,  62.37049641,  74.0158925 ,\n",
       "        70.37384769,  67.99579985,  71.59184043,  66.11630985,\n",
       "        69.74213291,  68.00376788,  68.49213255,  70.58936791,\n",
       "        70.3623238 ,  71.00358155,  73.32155731,  72.45514326,\n",
       "        67.8984363 ,  68.75030398,  68.06089192,  69.66933316,\n",
       "        72.17612838,  67.99692262,  67.73371337,  70.0641024 ,\n",
       "        72.6719037 ,  67.11002676,  72.85745703,  70.20070346,\n",
       "        68.30407282,  62.64369703,  70.29207227,  68.92440122,\n",
       "        66.81308218,  61.19168368,  70.8555626 ,  69.28238806,\n",
       "        66.48217884,  69.72672771,  64.57188716,  68.572784  ,\n",
       "        63.17331164,  76.58831942,  70.69126066,  64.1651854 ,\n",
       "        69.8084589 ,  70.73864911,  72.96162088,  65.4267576 ,\n",
       "        72.44938495,  71.97337008,  67.73965133,  67.97383576,\n",
       "        71.51702782,  67.62607472,  61.23669252,  71.11759052,\n",
       "        73.26807057,  73.48428767,  73.14273404,  71.62528735,\n",
       "        66.01788722,  75.08162906,  68.49109657,  66.8412664 ,\n",
       "        71.97354968,  74.09253396,  69.2072755 ,  62.25634367,\n",
       "        70.16794392,  68.49789482,  70.67330967,  70.10014526,\n",
       "        66.86281745,  69.4608571 ,  66.86724735,  73.61633837,\n",
       "        66.62983128,  69.63152134,  65.58912518,  70.42194631,\n",
       "        65.47994003,  72.38700301,  71.79803571,  65.34478269,\n",
       "        65.23446727,  67.8451259 ,  70.35238888,  68.39822891,\n",
       "        67.8953653 ,  68.18744916,  71.13898573,  68.05528399,\n",
       "        66.45943407,  66.33908227,  72.94506155,  72.67132501,\n",
       "        66.77924701,  71.87423098,  70.32188678,  66.13416015,\n",
       "        74.06313217,  72.28074614,  71.28115467,  69.35812835,\n",
       "        68.88803701,  71.53747198,  78.10024338,  69.59760986,\n",
       "        69.10401784,  63.96953808,  72.7494717 ,  77.17170971,\n",
       "        68.55924749,  70.99639068,  74.87475547,  75.46917548,\n",
       "        75.17196277,  61.56842091,  70.10471025,  71.80567589,\n",
       "        68.06498579,  69.45380151,  68.768205  ,  67.59312393,\n",
       "        68.46524355,  72.51381166,  76.24611863,  70.78870574,\n",
       "        69.21945666,  66.98549097,  69.06833751,  69.28902179,\n",
       "        63.37342276,  69.06560928,  65.76455522,  65.6076976 ,\n",
       "        70.45258878,  68.99517588,  71.06120892,  66.48261901,\n",
       "        70.6207653 ,  73.46247776,  72.21779969,  69.86613968,\n",
       "        66.09887884,  67.72508966,  67.83848891,  73.32083379,\n",
       "        72.19186402,  64.9332639 ,  67.67697483,  69.94719035,\n",
       "        74.16048537,  68.41097724,  69.21850707,  66.37209583,\n",
       "        72.65048733,  68.37111729,  70.18689625,  70.17276319,\n",
       "        70.19984766,  65.58166217,  71.95446037,  66.03488413,\n",
       "        66.91245018,  66.15289426,  71.45511601,  70.27400391,\n",
       "        68.36856029,  66.57529246,  66.89155524,  68.24575758,\n",
       "        71.08670729,  62.92566282,  65.93676776,  64.47451453,\n",
       "        68.90974855,  67.32793466,  67.15815245,  67.4408218 ,\n",
       "        64.02002055,  69.93547982,  72.66441808,  70.85973069,\n",
       "        70.85632051,  68.41776668,  71.76648369,  68.04761619,\n",
       "        70.64203935,  65.67601635,  68.18544134,  65.28524537,\n",
       "        61.48452689,  61.79025064,  71.5365095 ,  60.10842551,\n",
       "        68.41947302,  67.86720231,  67.99072458,  62.24106255,\n",
       "        66.42927149,  67.19344062,  73.12326375,  67.63186199,\n",
       "        64.91207414,  70.89014338,  70.12321335,  71.0140438 ,\n",
       "        68.3532659 ,  66.73066025,  68.17683697,  69.6793946 ,\n",
       "        76.69628291,  73.49609191,  68.61554416,  72.86474715,\n",
       "        65.6798872 ,  68.32938404,  68.36615919,  63.77589024,\n",
       "        73.49610357,  63.60249378,  67.31029759,  71.07576503,\n",
       "        75.49481032,  71.55130532,  68.3997168 ,  66.05943801,\n",
       "        69.01448212,  66.87912527,  68.99362388,  69.39042634,\n",
       "        71.9564581 ,  71.88288085,  74.36919414,  68.42074721,\n",
       "        73.43085295,  71.088401  ,  65.80680927,  68.05836798,\n",
       "        68.79718193,  67.5476852 ,  69.60988628,  69.47449859,\n",
       "        71.60895805,  68.95485217,  72.86933952,  69.70084251,\n",
       "        66.19730921,  68.38243049,  71.4726267 ,  57.02594445,\n",
       "        75.65545962,  68.26686452,  69.35503263,  68.76146645,\n",
       "        70.03222162,  70.02539383,  64.94203483,  69.1105072 ,\n",
       "        64.46160027,  69.4952873 ,  67.92728011,  71.96836425,\n",
       "        66.21257355,  68.86002918,  69.0692921 ,  64.87964005,\n",
       "        73.20706942,  70.91695309,  70.46568888,  74.19595623,\n",
       "        66.60745843,  70.63771865,  67.32931773,  69.54674459,\n",
       "        69.85429782,  65.73609606,  71.81888872,  73.39429331,\n",
       "        70.63098355,  68.08547293,  67.30521319,  71.65995991,\n",
       "        69.81461603,  71.21968828,  67.54099487,  69.36305685,\n",
       "        63.73743301,  70.10497836,  68.23409477,  63.96589585,\n",
       "        67.7535661 ,  69.24959252,  72.74896554,  66.81764918,\n",
       "        68.96955269,  78.27325443,  72.33971718,  66.75789396,\n",
       "        71.26344568,  67.49975625,  68.85062227,  69.38418103,\n",
       "        61.20574471,  73.13941976,  71.39192473,  68.8742839 ,\n",
       "        67.11784556,  72.87821194,  70.17115247,  66.15976479,\n",
       "        73.14010799,  64.80788457,  73.49576372,  66.81566805,\n",
       "        68.48964772,  71.23345803,  68.01073472,  69.80585395,\n",
       "        64.4693081 ,  68.89323119,  65.43045191,  67.13632533,\n",
       "        73.53980529,  64.58631665,  66.15162796,  68.88771252,\n",
       "        67.64916641,  66.62728685,  67.64451563,  63.7791292 ,\n",
       "        78.82935851,  69.74232215,  63.14456012,  71.98695527,\n",
       "        65.95133575,  66.82579928,  67.4397751 ,  68.92911764,\n",
       "        64.91388878,  71.12982493,  71.28977431,  72.66195036,\n",
       "        69.32711702,  70.05154365,  72.50285573,  63.83032061,\n",
       "        69.86315338,  74.08647473,  74.63357648,  65.19948833,\n",
       "        70.31433651,  73.75992454,  67.71177019,  70.20184099,\n",
       "        66.37388059,  71.7535768 ,  68.52956671,  68.12757101,\n",
       "        68.35185161,  72.98850519,  62.97321335,  60.59095481,\n",
       "        72.2641929 ,  73.82820023,  66.40688315,  66.5597916 ,\n",
       "        69.65104375,  67.26862487,  74.51538224,  69.68947608,\n",
       "        74.85618311,  71.31678966,  71.7583298 ,  67.26202332,\n",
       "        68.09840592,  72.88395572,  65.91939451,  64.82788128,\n",
       "        70.77500081,  72.20594356,  67.57776426,  71.56259856,\n",
       "        63.89784938,  74.11030033,  65.83441654,  68.91495549,\n",
       "        68.03529821,  72.40236788,  68.85672326,  61.96956115,\n",
       "        76.31417705,  71.9558514 ,  70.10154786,  70.85780784,\n",
       "        66.12006633,  68.1477666 ,  68.44794294,  70.76235154,\n",
       "        68.89559212,  68.54380513,  70.92199644,  66.28354783,\n",
       "        63.25114572,  66.22016344,  66.39858851,  70.02595306,\n",
       "        73.25675563,  69.74134233,  68.54307306,  69.90503784,\n",
       "        67.18153909,  64.59373841,  75.55446116,  70.68801033,\n",
       "        67.88223769,  65.50914123,  67.8811624 ,  69.07690932,\n",
       "        67.34147329,  67.97198499,  69.92538176,  71.02014505,\n",
       "        70.63712869,  70.58477158,  66.93246268,  70.91267168,\n",
       "        70.40561747,  62.76603508,  76.0901896 ,  69.54102928,\n",
       "        66.63223116,  75.06133323,  70.80414689,  71.59250693,\n",
       "        69.95075487,  65.76300374,  68.32155874,  67.78902859,\n",
       "        70.17311274,  71.93176308,  68.96908668,  70.32483682,\n",
       "        70.84860529,  69.28133029,  73.05013025,  67.88265878,\n",
       "        67.72727447,  73.44205357,  72.02938706,  65.72044337,\n",
       "        71.414471  ,  68.69750087,  69.86776546,  70.40878173,\n",
       "        65.18436573,  65.36006667,  71.27302819,  70.98306669,\n",
       "        71.51173108,  69.69525648,  67.79699612,  67.95604521,\n",
       "        68.7357322 ,  65.84915348,  73.48823974,  68.2655861 ,\n",
       "        72.08438081,  69.74533364,  64.91158718,  65.16294315,\n",
       "        66.08953953,  69.96103632,  65.18689201,  68.14339656,\n",
       "        70.07013568,  64.74786937,  67.08691099,  72.20558701,\n",
       "        71.03247428,  70.8853755 ,  71.93217317,  71.68762981,\n",
       "        64.32524969,  70.48907367,  73.0179926 ,  70.12258336,\n",
       "        64.27779498,  72.27671866,  70.09881428,  70.21345089,\n",
       "        65.77340055,  68.36945028,  75.83524033,  70.96622731,\n",
       "        69.7835736 ,  67.06291747,  70.67694701,  63.87254916,\n",
       "        69.44295382,  66.9077098 ,  77.03596768,  67.80342712,\n",
       "        70.26743244,  67.45911944,  75.78013031,  69.76805811,\n",
       "        69.02667676,  69.90134007,  65.28074775,  73.56892617,\n",
       "        70.10467737,  68.77034936,  71.14208714,  72.12183888,\n",
       "        68.7516474 ,  70.47541623,  71.81322106,  72.61604875,\n",
       "        69.60606297,  66.1466207 ,  69.82161135,  65.88052085,\n",
       "        68.96681013,  71.20835602,  72.23045873,  65.50439072,\n",
       "        68.02052258,  67.60558455,  63.93426516,  73.4766691 ,\n",
       "        71.48611035,  70.70119565,  72.85013263,  71.2280924 ,\n",
       "        68.18768858,  68.41354922,  74.15724561,  67.14827126,\n",
       "        69.72680566,  72.51676882,  67.86380995,  71.7629297 ,\n",
       "        65.73616069,  67.70073691,  68.44877318,  67.79665651,\n",
       "        72.19435282,  68.65788043,  72.45475137,  71.05014474,\n",
       "        70.29610467,  75.05295729,  66.58261518,  70.05498724,\n",
       "        74.14037697,  74.49490229,  69.50999731,  67.76566407,\n",
       "        70.02229523,  72.71840465,  71.91935107,  73.24291593,\n",
       "        66.02999131,  73.64117525,  72.56965792,  68.3910694 ,\n",
       "        66.43006855,  72.39363968,  66.46334953,  74.45094604,\n",
       "        66.28948792,  63.94127125,  68.32536925,  62.05840968,\n",
       "        69.77922036,  68.52091199,  65.39662082,  73.13831756,\n",
       "        66.37027007,  68.76910325,  68.39031961,  74.49040732,\n",
       "        66.60543847,  72.33362208,  72.73256646,  67.21229832,\n",
       "        72.97202908,  71.60217706,  63.49594181,  74.41542765,\n",
       "        71.43834655,  69.88729987,  69.59665898,  66.72600191,\n",
       "        71.36234496,  70.5037228 ,  66.27094546,  68.44087788,\n",
       "        64.79014493,  65.19156279,  63.73164856,  69.07247466,\n",
       "        75.87296284,  74.04939525,  66.06940835,  65.76015544,\n",
       "        63.70110452,  69.03131524,  67.88226164,  74.51410424,\n",
       "        69.02362974,  66.83037604,  66.87379314,  73.32739836,\n",
       "        72.53542507,  64.93168576,  75.17899701,  68.29942299,\n",
       "        68.58157941,  71.59080758,  68.01713343,  65.33826035,\n",
       "        70.30764523,  75.75860643,  61.95588191,  69.79589696,\n",
       "        72.20653375,  68.91712129,  69.15960132,  71.845534  ,\n",
       "        71.62457942,  65.47923001,  73.74111644,  70.94248826,\n",
       "        68.50588294,  70.26706132,  69.27488597,  68.6472093 ,\n",
       "        76.45952733,  74.34072899,  72.21974638,  75.21088524,\n",
       "        72.47814229,  68.65975458,  68.25758008,  71.00257744,\n",
       "        69.00678825,  67.99557115,  71.52732044,  68.53717427,\n",
       "        66.25608758,  74.67485553,  72.75571263,  68.41370758,\n",
       "        67.43226092,  67.66278319,  62.15614271,  65.17217196,\n",
       "        68.01858642,  68.27517336,  63.47244976,  71.37415275,\n",
       "        67.30373073,  72.08652686,  67.30926595,  65.24944027,\n",
       "        65.06904935,  68.70249292,  62.85580076,  66.16147121,\n",
       "        68.46656215,  62.08247077,  69.39272078,  73.67783405,\n",
       "        64.8484217 ,  72.19723918,  69.63355912,  67.71212763,\n",
       "        68.91912631,  65.9990376 ,  67.76492335,  69.48903029,\n",
       "        66.85013203,  70.31716481,  69.37047395,  64.76621875,\n",
       "        72.04415778,  69.04962101,  67.36460125,  62.11482775,\n",
       "        68.31228378,  69.32801348,  68.25205651,  71.8143588 ,\n",
       "        76.82478537,  70.37167409,  68.87591851,  67.24157738,\n",
       "        69.94558947,  67.93654677,  71.15231836,  70.06584126,\n",
       "        63.65481759,  69.0026217 ,  71.6187672 ,  70.78007123,\n",
       "        70.00791518,  71.51640955,  69.99764156,  62.82794001,\n",
       "        73.79282958,  67.72696705,  67.1001177 ,  72.95711426,\n",
       "        64.99231574,  66.89707612,  66.25954039,  72.47190578,\n",
       "        66.92065124,  65.2859768 ,  70.80600454,  65.23011188,\n",
       "        62.46948393,  70.0530468 ,  67.66927157,  65.51215695,\n",
       "        68.68785593,  66.26123846,  71.5319891 ,  72.50075345,\n",
       "        72.69289068,  59.34971393,  67.26256626,  71.39437043,\n",
       "        67.39466461,  66.41984162,  69.65703691,  74.8302758 ,\n",
       "        69.54304612,  66.0028097 ,  67.42729875,  69.86758278,\n",
       "        76.91303442,  73.46583828,  64.98973647,  70.49924169,\n",
       "        69.66506819,  70.77455513,  67.20195344,  76.3949424 ,\n",
       "        67.97896308,  71.24203685,  72.36672716,  69.7982574 ])"
      ]
     },
     "execution_count": 128,
     "metadata": {},
     "output_type": "execute_result"
    }
   ],
   "source": [
    "np.random.normal(69.4,3,size=1000)"
   ]
  },
  {
   "cell_type": "code",
   "execution_count": 130,
   "metadata": {},
   "outputs": [
    {
     "data": {
      "text/plain": [
       "0.25889051853783263"
      ]
     },
     "execution_count": 130,
     "metadata": {},
     "output_type": "execute_result"
    }
   ],
   "source": [
    "stats.norm.cdf(70,69.4,3)-stats.norm.cdf(68,69.4,3)"
   ]
  },
  {
   "cell_type": "code",
   "execution_count": 132,
   "metadata": {},
   "outputs": [
    {
     "data": {
      "text/plain": [
       "0.42074029056089768"
      ]
     },
     "execution_count": 132,
     "metadata": {},
     "output_type": "execute_result"
    }
   ],
   "source": [
    "1 - stats.norm.cdf(70,69.4,3)"
   ]
  },
  {
   "cell_type": "code",
   "execution_count": 133,
   "metadata": {},
   "outputs": [
    {
     "data": {
      "text/plain": [
       "0.15865525393145791"
      ]
     },
     "execution_count": 133,
     "metadata": {},
     "output_type": "execute_result"
    }
   ],
   "source": [
    "stats.norm.cdf(11.9,12.1,.2)"
   ]
  },
  {
   "cell_type": "code",
   "execution_count": 134,
   "metadata": {},
   "outputs": [
    {
     "data": {
      "text/plain": [
       "0.15244558860568178"
      ]
     },
     "execution_count": 134,
     "metadata": {},
     "output_type": "execute_result"
    }
   ],
   "source": [
    "stats.norm.cdf(11.9,12.1,.2) - stats.norm.cdf(11.6,12.1,.2)"
   ]
  },
  {
   "cell_type": "code",
   "execution_count": 135,
   "metadata": {},
   "outputs": [
    {
     "data": {
      "text/plain": [
       "0.066807201268857641"
      ]
     },
     "execution_count": 135,
     "metadata": {},
     "output_type": "execute_result"
    }
   ],
   "source": [
    "1-stats.norm.cdf(12.4,12.1,.2)"
   ]
  },
  {
   "cell_type": "code",
   "execution_count": 136,
   "metadata": {},
   "outputs": [
    {
     "data": {
      "text/plain": [
       "0.6540936879530922"
      ]
     },
     "execution_count": 136,
     "metadata": {},
     "output_type": "execute_result"
    }
   ],
   "source": [
    "stats.norm.cdf(550,506,111)"
   ]
  },
  {
   "cell_type": "code",
   "execution_count": 137,
   "metadata": {},
   "outputs": [
    {
     "data": {
      "text/plain": [
       "0.43204458749852437"
      ]
     },
     "execution_count": 137,
     "metadata": {},
     "output_type": "execute_result"
    }
   ],
   "source": [
    "1-stats.norm.cdf(525,506,111)"
   ]
  },
  {
   "cell_type": "code",
   "execution_count": 139,
   "metadata": {},
   "outputs": [
    {
     "data": {
      "text/plain": [
       "0.69054022191782161"
      ]
     },
     "execution_count": 139,
     "metadata": {},
     "output_type": "execute_result"
    }
   ],
   "source": [
    "stats.norm.cdf(224,205,38.2)"
   ]
  },
  {
   "cell_type": "code",
   "execution_count": 140,
   "metadata": {},
   "outputs": [
    {
     "data": {
      "text/plain": [
       "0.044417938799020784"
      ]
     },
     "execution_count": 140,
     "metadata": {},
     "output_type": "execute_result"
    }
   ],
   "source": [
    "1 - stats.norm.cdf(270,205,38.2)"
   ]
  },
  {
   "cell_type": "code",
   "execution_count": 141,
   "metadata": {},
   "outputs": [
    {
     "data": {
      "text/plain": [
       "11.41541027134834"
      ]
     },
     "execution_count": 141,
     "metadata": {},
     "output_type": "execute_result"
    }
   ],
   "source": [
    "257 *0.044417938799020784"
   ]
  },
  {
   "cell_type": "code",
   "execution_count": 142,
   "metadata": {},
   "outputs": [
    {
     "data": {
      "text/plain": [
       "0.066807201268858085"
      ]
     },
     "execution_count": 142,
     "metadata": {},
     "output_type": "execute_result"
    }
   ],
   "source": [
    "1 - stats.norm.cdf(14,8,4)"
   ]
  },
  {
   "cell_type": "code",
   "execution_count": 143,
   "metadata": {},
   "outputs": [
    {
     "data": {
      "text/plain": [
       "0.4012936743170763"
      ]
     },
     "execution_count": 143,
     "metadata": {},
     "output_type": "execute_result"
    }
   ],
   "source": [
    "stats.norm.cdf(7,8,4)"
   ]
  },
  {
   "cell_type": "code",
   "execution_count": 144,
   "metadata": {},
   "outputs": [
    {
     "data": {
      "text/plain": [
       "160.5174697268305"
      ]
     },
     "execution_count": 144,
     "metadata": {},
     "output_type": "execute_result"
    }
   ],
   "source": [
    "0.4012936743170763 * 400"
   ]
  },
  {
   "cell_type": "code",
   "execution_count": 147,
   "metadata": {},
   "outputs": [
    {
     "data": {
      "text/plain": [
       "69.504281373081213"
      ]
     },
     "execution_count": 147,
     "metadata": {},
     "output_type": "execute_result"
    }
   ],
   "source": [
    "stats.norm.ppf(.95,64.8,2.86)"
   ]
  },
  {
   "cell_type": "code",
   "execution_count": 148,
   "metadata": {},
   "outputs": [
    {
     "data": {
      "text/plain": [
       "62.870959314439204"
      ]
     },
     "execution_count": 148,
     "metadata": {},
     "output_type": "execute_result"
    }
   ],
   "source": [
    "stats.norm.ppf(.25,64.8,2.86)"
   ]
  },
  {
   "cell_type": "code",
   "execution_count": 150,
   "metadata": {},
   "outputs": [
    {
     "data": {
      "text/plain": [
       "167.67491049203068"
      ]
     },
     "execution_count": 150,
     "metadata": {},
     "output_type": "execute_result"
    }
   ],
   "source": [
    "stats.norm.ppf(.05,206,23.3)"
   ]
  },
  {
   "cell_type": "code",
   "execution_count": 151,
   "metadata": {},
   "outputs": [
    {
     "data": {
      "text/plain": [
       "221.7156111795687"
      ]
     },
     "execution_count": 151,
     "metadata": {},
     "output_type": "execute_result"
    }
   ],
   "source": [
    "stats.norm.ppf(.75,206,23.3)"
   ]
  },
  {
   "cell_type": "code",
   "execution_count": 152,
   "metadata": {},
   "outputs": [
    {
     "data": {
      "text/plain": [
       "8.4383097150369135"
      ]
     },
     "execution_count": 152,
     "metadata": {},
     "output_type": "execute_result"
    }
   ],
   "source": [
    "stats.norm.ppf(.95,6.3,1.3)"
   ]
  },
  {
   "cell_type": "code",
   "execution_count": 153,
   "metadata": {},
   "outputs": [
    {
     "data": {
      "text/plain": [
       "(5.4231633247450937, 7.176836675254906)"
      ]
     },
     "execution_count": 153,
     "metadata": {},
     "output_type": "execute_result"
    }
   ],
   "source": [
    "stats.norm.ppf(.25,6.3,1.3),stats.norm.ppf(.75,6.3,1.3)"
   ]
  },
  {
   "cell_type": "code",
   "execution_count": 154,
   "metadata": {},
   "outputs": [
    {
     "data": {
      "text/plain": [
       "14.241432885453264"
      ]
     },
     "execution_count": 154,
     "metadata": {},
     "output_type": "execute_result"
    }
   ],
   "source": [
    "stats.norm.ppf(.09,18.8,3.4)"
   ]
  },
  {
   "cell_type": "code",
   "execution_count": 155,
   "metadata": {},
   "outputs": [
    {
     "data": {
      "text/plain": [
       "(14.442724677148359, 23.157275322851643)"
      ]
     },
     "execution_count": 155,
     "metadata": {},
     "output_type": "execute_result"
    }
   ],
   "source": [
    "stats.norm.ppf(.1,18.8,3.4),stats.norm.ppf(.9,18.8,3.4)"
   ]
  },
  {
   "cell_type": "code",
   "execution_count": 213,
   "metadata": {
    "collapsed": true
   },
   "outputs": [],
   "source": [
    "x = 48.2\n",
    "N=300\n",
    "n=36\n",
    "finite = math.sqrt((N-n)/(N-1))"
   ]
  },
  {
   "cell_type": "code",
   "execution_count": 214,
   "metadata": {
    "collapsed": true
   },
   "outputs": [],
   "source": [
    "std = 6.5\n",
    "z = stats.norm.ppf(.1)\n",
    "e = z * (std/math.sqrt(n))*finite"
   ]
  },
  {
   "cell_type": "code",
   "execution_count": 215,
   "metadata": {},
   "outputs": [
    {
     "data": {
      "text/plain": [
       "(46.895438489553179, 49.504561510446827)"
      ]
     },
     "execution_count": 215,
     "metadata": {},
     "output_type": "execute_result"
    }
   ],
   "source": [
    "x + e, x-e"
   ]
  },
  {
   "cell_type": "code",
   "execution_count": 217,
   "metadata": {},
   "outputs": [
    {
     "data": {
      "text/plain": [
       "-1.3137029154631459"
      ]
     },
     "execution_count": 217,
     "metadata": {},
     "output_type": "execute_result"
    }
   ],
   "source": [
    "stats.t.ppf(.1,27)"
   ]
  },
  {
   "cell_type": "code",
   "execution_count": 235,
   "metadata": {
    "collapsed": true
   },
   "outputs": [],
   "source": [
    "t=stats.t.ppf(.05,7)\n",
    "s=9.6\n",
    "n=8\n",
    "x=35.5"
   ]
  },
  {
   "cell_type": "code",
   "execution_count": 236,
   "metadata": {
    "collapsed": true
   },
   "outputs": [],
   "source": [
    "E = t * (s/(math.sqrt(n)))"
   ]
  },
  {
   "cell_type": "code",
   "execution_count": 237,
   "metadata": {},
   "outputs": [
    {
     "data": {
      "text/plain": [
       "(29.069586980176965, 41.930413019823035, -6.4304130198230336)"
      ]
     },
     "execution_count": 237,
     "metadata": {},
     "output_type": "execute_result"
    }
   ],
   "source": [
    "x +E,x-E,E"
   ]
  },
  {
   "cell_type": "code",
   "execution_count": 254,
   "metadata": {
    "collapsed": true
   },
   "outputs": [],
   "source": [
    "z=stats.norm.ppf(.05)\n",
    "s=9.4\n",
    "n=8\n",
    "x=33.5"
   ]
  },
  {
   "cell_type": "code",
   "execution_count": 255,
   "metadata": {},
   "outputs": [
    {
     "data": {
      "text/plain": [
       "(28.03349037771963, 38.96650962228037, -5.4665096222803689)"
      ]
     },
     "execution_count": 255,
     "metadata": {},
     "output_type": "execute_result"
    }
   ],
   "source": [
    "E = z * (s/(math.sqrt(n)))\n",
    "x +E,x-E,E"
   ]
  },
  {
   "cell_type": "code",
   "execution_count": 276,
   "metadata": {},
   "outputs": [
    {
     "data": {
      "text/plain": [
       "(98.60000000000002, 14.599999999999973, 42.00000000000003)"
      ]
     },
     "execution_count": 276,
     "metadata": {},
     "output_type": "execute_result"
    }
   ],
   "source": [
    "t=stats.t.ppf(.05,24)\n",
    "s=.25\n",
    "n=25\n",
    "x=56.6\n",
    "pop=54.5\n",
    "E = ((math.sqrt(n))/s)*((x-pop))\n",
    "x +E,x-E,E"
   ]
  },
  {
   "cell_type": "code",
   "execution_count": 275,
   "metadata": {},
   "outputs": [
    {
     "data": {
      "text/plain": [
       "-2.796939504772805"
      ]
     },
     "execution_count": 275,
     "metadata": {},
     "output_type": "execute_result"
    }
   ],
   "source": [
    "t=stats.t.ppf(.005,24)\n",
    "t"
   ]
  },
  {
   "cell_type": "code",
   "execution_count": null,
   "metadata": {
    "collapsed": true
   },
   "outputs": [],
   "source": []
  },
  {
   "cell_type": "code",
   "execution_count": null,
   "metadata": {
    "collapsed": true
   },
   "outputs": [],
   "source": []
  }
 ],
 "metadata": {
  "kernelspec": {
   "display_name": "Python 3",
   "language": "python",
   "name": "python3"
  },
  "language_info": {
   "codemirror_mode": {
    "name": "ipython",
    "version": 3
   },
   "file_extension": ".py",
   "mimetype": "text/x-python",
   "name": "python",
   "nbconvert_exporter": "python",
   "pygments_lexer": "ipython3",
   "version": "3.6.2"
  }
 },
 "nbformat": 4,
 "nbformat_minor": 2
}
